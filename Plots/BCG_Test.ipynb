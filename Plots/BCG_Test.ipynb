{
 "cells": [
  {
   "cell_type": "code",
   "execution_count": 34,
   "metadata": {},
   "outputs": [
    {
     "name": "stderr",
     "output_type": "stream",
     "text": [
      "<ipython-input-34-1be79145e5c6>:3: FutureWarning: Indexing with multiple keys (implicitly converted to a tuple of keys) will be deprecated, use a list instead.\n",
      "  df_BCG_1= df.groupby([\"Angebotenes Produkt\"])[\"Gewinn\", \"Anzahl\"].sum().reset_index()\n"
     ]
    },
    {
     "data": {
      "text/html": [
       "<div>\n",
       "<style scoped>\n",
       "    .dataframe tbody tr th:only-of-type {\n",
       "        vertical-align: middle;\n",
       "    }\n",
       "\n",
       "    .dataframe tbody tr th {\n",
       "        vertical-align: top;\n",
       "    }\n",
       "\n",
       "    .dataframe thead th {\n",
       "        text-align: right;\n",
       "    }\n",
       "</style>\n",
       "<table border=\"1\" class=\"dataframe\">\n",
       "  <thead>\n",
       "    <tr style=\"text-align: right;\">\n",
       "      <th></th>\n",
       "      <th>Angebotenes Produkt</th>\n",
       "      <th>Gewinn</th>\n",
       "      <th>Anzahl</th>\n",
       "    </tr>\n",
       "  </thead>\n",
       "  <tbody>\n",
       "    <tr>\n",
       "      <th>0</th>\n",
       "      <td>Altersvorsorge</td>\n",
       "      <td>17906.07</td>\n",
       "      <td>1911</td>\n",
       "    </tr>\n",
       "    <tr>\n",
       "      <th>1</th>\n",
       "      <td>Bausparvertrag</td>\n",
       "      <td>26511.47</td>\n",
       "      <td>19073</td>\n",
       "    </tr>\n",
       "    <tr>\n",
       "      <th>2</th>\n",
       "      <td>Depotkonto</td>\n",
       "      <td>12712.48</td>\n",
       "      <td>5456</td>\n",
       "    </tr>\n",
       "    <tr>\n",
       "      <th>3</th>\n",
       "      <td>Girokonto</td>\n",
       "      <td>10430.80</td>\n",
       "      <td>26077</td>\n",
       "    </tr>\n",
       "    <tr>\n",
       "      <th>4</th>\n",
       "      <td>Kredit</td>\n",
       "      <td>33766.60</td>\n",
       "      <td>96476</td>\n",
       "    </tr>\n",
       "  </tbody>\n",
       "</table>\n",
       "</div>"
      ],
      "text/plain": [
       "  Angebotenes Produkt    Gewinn  Anzahl\n",
       "0      Altersvorsorge  17906.07    1911\n",
       "1      Bausparvertrag  26511.47   19073\n",
       "2          Depotkonto  12712.48    5456\n",
       "3           Girokonto  10430.80   26077\n",
       "4              Kredit  33766.60   96476"
      ]
     },
     "execution_count": 34,
     "metadata": {},
     "output_type": "execute_result"
    }
   ],
   "source": [
    "df = dd.read_sql_table(\"testdaten\", 'sqlite:///Kundendaten.db', \"index\")\n",
    "df=df.compute()\n",
    "df_BCG_1= df.groupby([\"Angebotenes Produkt\"])[\"Gewinn\", \"Anzahl\"].sum().reset_index()\n",
    "df_BCG_1.head()"
   ]
  },
  {
   "cell_type": "code",
   "execution_count": 35,
   "metadata": {},
   "outputs": [
    {
     "data": {
      "text/html": [
       "<div>\n",
       "<style scoped>\n",
       "    .dataframe tbody tr th:only-of-type {\n",
       "        vertical-align: middle;\n",
       "    }\n",
       "\n",
       "    .dataframe tbody tr th {\n",
       "        vertical-align: top;\n",
       "    }\n",
       "\n",
       "    .dataframe thead th {\n",
       "        text-align: right;\n",
       "    }\n",
       "</style>\n",
       "<table border=\"1\" class=\"dataframe\">\n",
       "  <thead>\n",
       "    <tr style=\"text-align: right;\">\n",
       "      <th></th>\n",
       "      <th>Angebotenes Produkt</th>\n",
       "      <th>Anzahl</th>\n",
       "    </tr>\n",
       "  </thead>\n",
       "  <tbody>\n",
       "    <tr>\n",
       "      <th>0</th>\n",
       "      <td>Altersvorsorge</td>\n",
       "      <td>0.319352</td>\n",
       "    </tr>\n",
       "    <tr>\n",
       "      <th>1</th>\n",
       "      <td>Bausparvertrag</td>\n",
       "      <td>0.490447</td>\n",
       "    </tr>\n",
       "    <tr>\n",
       "      <th>2</th>\n",
       "      <td>Depotkonto</td>\n",
       "      <td>0.304839</td>\n",
       "    </tr>\n",
       "    <tr>\n",
       "      <th>3</th>\n",
       "      <td>Girokonto</td>\n",
       "      <td>0.582141</td>\n",
       "    </tr>\n",
       "    <tr>\n",
       "      <th>4</th>\n",
       "      <td>Kredit</td>\n",
       "      <td>0.579888</td>\n",
       "    </tr>\n",
       "  </tbody>\n",
       "</table>\n",
       "</div>"
      ],
      "text/plain": [
       "  Angebotenes Produkt    Anzahl\n",
       "0      Altersvorsorge  0.319352\n",
       "1      Bausparvertrag  0.490447\n",
       "2          Depotkonto  0.304839\n",
       "3           Girokonto  0.582141\n",
       "4              Kredit  0.579888"
      ]
     },
     "execution_count": 35,
     "metadata": {},
     "output_type": "execute_result"
    }
   ],
   "source": [
    "df_BCG_2=df.groupby([\"Angebotenes Produkt\"])[\"Anzahl\"].apply(lambda x: x.sum()/x.count()).reset_index()\n",
    "df_BCG_2.head()"
   ]
  },
  {
   "cell_type": "code",
   "execution_count": 36,
   "metadata": {},
   "outputs": [
    {
     "data": {
      "text/html": [
       "<div>\n",
       "<style scoped>\n",
       "    .dataframe tbody tr th:only-of-type {\n",
       "        vertical-align: middle;\n",
       "    }\n",
       "\n",
       "    .dataframe tbody tr th {\n",
       "        vertical-align: top;\n",
       "    }\n",
       "\n",
       "    .dataframe thead th {\n",
       "        text-align: right;\n",
       "    }\n",
       "</style>\n",
       "<table border=\"1\" class=\"dataframe\">\n",
       "  <thead>\n",
       "    <tr style=\"text-align: right;\">\n",
       "      <th></th>\n",
       "      <th>Angebotenes Produkt</th>\n",
       "      <th>Gewinn</th>\n",
       "      <th>Anzahl</th>\n",
       "      <th>Kaufwahrscheinlichkeit</th>\n",
       "      <th>Rentabilität</th>\n",
       "    </tr>\n",
       "  </thead>\n",
       "  <tbody>\n",
       "    <tr>\n",
       "      <th>0</th>\n",
       "      <td>Altersvorsorge</td>\n",
       "      <td>17906.07</td>\n",
       "      <td>1911</td>\n",
       "      <td>0.319352</td>\n",
       "      <td>9.37</td>\n",
       "    </tr>\n",
       "    <tr>\n",
       "      <th>1</th>\n",
       "      <td>Bausparvertrag</td>\n",
       "      <td>26511.47</td>\n",
       "      <td>19073</td>\n",
       "      <td>0.490447</td>\n",
       "      <td>1.39</td>\n",
       "    </tr>\n",
       "    <tr>\n",
       "      <th>2</th>\n",
       "      <td>Depotkonto</td>\n",
       "      <td>12712.48</td>\n",
       "      <td>5456</td>\n",
       "      <td>0.304839</td>\n",
       "      <td>2.33</td>\n",
       "    </tr>\n",
       "    <tr>\n",
       "      <th>3</th>\n",
       "      <td>Girokonto</td>\n",
       "      <td>10430.80</td>\n",
       "      <td>26077</td>\n",
       "      <td>0.582141</td>\n",
       "      <td>0.40</td>\n",
       "    </tr>\n",
       "    <tr>\n",
       "      <th>4</th>\n",
       "      <td>Kredit</td>\n",
       "      <td>33766.60</td>\n",
       "      <td>96476</td>\n",
       "      <td>0.579888</td>\n",
       "      <td>0.35</td>\n",
       "    </tr>\n",
       "    <tr>\n",
       "      <th>5</th>\n",
       "      <td>Tagesgeldkonto</td>\n",
       "      <td>3391.08</td>\n",
       "      <td>1468</td>\n",
       "      <td>0.097978</td>\n",
       "      <td>2.31</td>\n",
       "    </tr>\n",
       "    <tr>\n",
       "      <th>6</th>\n",
       "      <td>Versicherung</td>\n",
       "      <td>33018.80</td>\n",
       "      <td>3880</td>\n",
       "      <td>0.436642</td>\n",
       "      <td>8.51</td>\n",
       "    </tr>\n",
       "  </tbody>\n",
       "</table>\n",
       "</div>"
      ],
      "text/plain": [
       "  Angebotenes Produkt    Gewinn  Anzahl  Kaufwahrscheinlichkeit  Rentabilität\n",
       "0      Altersvorsorge  17906.07    1911                0.319352          9.37\n",
       "1      Bausparvertrag  26511.47   19073                0.490447          1.39\n",
       "2          Depotkonto  12712.48    5456                0.304839          2.33\n",
       "3           Girokonto  10430.80   26077                0.582141          0.40\n",
       "4              Kredit  33766.60   96476                0.579888          0.35\n",
       "5      Tagesgeldkonto   3391.08    1468                0.097978          2.31\n",
       "6        Versicherung  33018.80    3880                0.436642          8.51"
      ]
     },
     "execution_count": 36,
     "metadata": {},
     "output_type": "execute_result"
    }
   ],
   "source": [
    "df_BCG=df_BCG_1.merge(df_BCG_2, on=\"Angebotenes Produkt\")\n",
    "df_BCG=df_BCG.rename(columns={\"Anzahl_x\": \"Anzahl\", \"Anzahl_y\":\"Kaufwahrscheinlichkeit\"})\n",
    "df_BCG[\"Rentabilität\"]=df_BCG[\"Gewinn\"]/df_BCG[\"Anzahl\"]\n",
    "df_BCG.head(n=10)"
   ]
  },
  {
   "cell_type": "code",
   "execution_count": 37,
   "metadata": {},
   "outputs": [
    {
     "name": "stdout",
     "output_type": "stream",
     "text": [
      "Gewinn: 19676.757142846454\n",
      "Anzahl: 22048.714285714286\n",
      "Kaufwahrscheinlichkeit: 0.40161228364236823\n",
      "Rentabilität: 3.522857142856895\n"
     ]
    }
   ],
   "source": [
    "print(\"Gewinn: \"+str(df_BCG[\"Gewinn\"].mean()))\n",
    "print(\"Anzahl: \"+str(df_BCG[\"Anzahl\"].mean()))\n",
    "print(\"Kaufwahrscheinlichkeit: \"+str(df_BCG[\"Kaufwahrscheinlichkeit\"].mean()))\n",
    "print(\"Rentabilität: \" +str(df_BCG[\"Rentabilität\"].mean()))"
   ]
  },
  {
   "cell_type": "code",
   "execution_count": 136,
   "metadata": {},
   "outputs": [],
   "source": [
    "prob_mean=df_BCG[\"Kaufwahrscheinlichkeit\"].mean()\n",
    "rent_mean=df_BCG[\"Rentabilität\"].mean()\n",
    "prob_max=df_BCG[\"Kaufwahrscheinlichkeit\"].max()\n",
    "rent_max=df_BCG[\"Rentabilität\"].max()"
   ]
  },
  {
   "cell_type": "code",
   "execution_count": 137,
   "metadata": {},
   "outputs": [],
   "source": [
    "def BCG(K,R):\n",
    "    if K<prob_mean and R<rent_mean:\n",
    "        return \"Poor Dog\"\n",
    "    elif K>prob_mean and R<rent_mean:\n",
    "        return \"Cash Cow\"\n",
    "    elif K>prob_mean and R>rent_mean:\n",
    "        return \"Star\"\n",
    "    else:\n",
    "        return \"Questionmark\""
   ]
  },
  {
   "cell_type": "code",
   "execution_count": 138,
   "metadata": {},
   "outputs": [
    {
     "data": {
      "text/html": [
       "<div>\n",
       "<style scoped>\n",
       "    .dataframe tbody tr th:only-of-type {\n",
       "        vertical-align: middle;\n",
       "    }\n",
       "\n",
       "    .dataframe tbody tr th {\n",
       "        vertical-align: top;\n",
       "    }\n",
       "\n",
       "    .dataframe thead th {\n",
       "        text-align: right;\n",
       "    }\n",
       "</style>\n",
       "<table border=\"1\" class=\"dataframe\">\n",
       "  <thead>\n",
       "    <tr style=\"text-align: right;\">\n",
       "      <th></th>\n",
       "      <th>Angebotenes Produkt</th>\n",
       "      <th>Gewinn</th>\n",
       "      <th>Anzahl</th>\n",
       "      <th>Kaufwahrscheinlichkeit</th>\n",
       "      <th>Rentabilität</th>\n",
       "      <th>BCG</th>\n",
       "    </tr>\n",
       "  </thead>\n",
       "  <tbody>\n",
       "    <tr>\n",
       "      <th>0</th>\n",
       "      <td>Altersvorsorge</td>\n",
       "      <td>17906.07</td>\n",
       "      <td>1911</td>\n",
       "      <td>0.319352</td>\n",
       "      <td>9.37</td>\n",
       "      <td>Questionmark</td>\n",
       "    </tr>\n",
       "    <tr>\n",
       "      <th>1</th>\n",
       "      <td>Bausparvertrag</td>\n",
       "      <td>26511.47</td>\n",
       "      <td>19073</td>\n",
       "      <td>0.490447</td>\n",
       "      <td>1.39</td>\n",
       "      <td>Cash Cow</td>\n",
       "    </tr>\n",
       "    <tr>\n",
       "      <th>2</th>\n",
       "      <td>Depotkonto</td>\n",
       "      <td>12712.48</td>\n",
       "      <td>5456</td>\n",
       "      <td>0.304839</td>\n",
       "      <td>2.33</td>\n",
       "      <td>Poor Dog</td>\n",
       "    </tr>\n",
       "    <tr>\n",
       "      <th>3</th>\n",
       "      <td>Girokonto</td>\n",
       "      <td>10430.80</td>\n",
       "      <td>26077</td>\n",
       "      <td>0.582141</td>\n",
       "      <td>0.40</td>\n",
       "      <td>Cash Cow</td>\n",
       "    </tr>\n",
       "    <tr>\n",
       "      <th>4</th>\n",
       "      <td>Kredit</td>\n",
       "      <td>33766.60</td>\n",
       "      <td>96476</td>\n",
       "      <td>0.579888</td>\n",
       "      <td>0.35</td>\n",
       "      <td>Cash Cow</td>\n",
       "    </tr>\n",
       "    <tr>\n",
       "      <th>5</th>\n",
       "      <td>Tagesgeldkonto</td>\n",
       "      <td>3391.08</td>\n",
       "      <td>1468</td>\n",
       "      <td>0.097978</td>\n",
       "      <td>2.31</td>\n",
       "      <td>Poor Dog</td>\n",
       "    </tr>\n",
       "    <tr>\n",
       "      <th>6</th>\n",
       "      <td>Versicherung</td>\n",
       "      <td>33018.80</td>\n",
       "      <td>3880</td>\n",
       "      <td>0.436642</td>\n",
       "      <td>8.51</td>\n",
       "      <td>Star</td>\n",
       "    </tr>\n",
       "  </tbody>\n",
       "</table>\n",
       "</div>"
      ],
      "text/plain": [
       "  Angebotenes Produkt    Gewinn  Anzahl  Kaufwahrscheinlichkeit  Rentabilität  \\\n",
       "0      Altersvorsorge  17906.07    1911                0.319352          9.37   \n",
       "1      Bausparvertrag  26511.47   19073                0.490447          1.39   \n",
       "2          Depotkonto  12712.48    5456                0.304839          2.33   \n",
       "3           Girokonto  10430.80   26077                0.582141          0.40   \n",
       "4              Kredit  33766.60   96476                0.579888          0.35   \n",
       "5      Tagesgeldkonto   3391.08    1468                0.097978          2.31   \n",
       "6        Versicherung  33018.80    3880                0.436642          8.51   \n",
       "\n",
       "            BCG  \n",
       "0  Questionmark  \n",
       "1      Cash Cow  \n",
       "2      Poor Dog  \n",
       "3      Cash Cow  \n",
       "4      Cash Cow  \n",
       "5      Poor Dog  \n",
       "6          Star  "
      ]
     },
     "execution_count": 138,
     "metadata": {},
     "output_type": "execute_result"
    }
   ],
   "source": [
    "df_BCG[\"BCG\"]=df_BCG.apply(lambda x: BCG(K=x[\"Kaufwahrscheinlichkeit\"], R=x[\"Rentabilität\"]), axis=1)\n",
    "df_BCG.head(n=10)"
   ]
  },
  {
   "cell_type": "code",
   "execution_count": 173,
   "metadata": {},
   "outputs": [
    {
     "data": {
      "application/vnd.plotly.v1+json": {
       "config": {
        "plotlyServerURL": "https://plot.ly"
       },
       "data": [
        {
         "hovertemplate": "Angebotenes Produkt=Altersvorsorge<br>Skalierte Kaufwahrscheinlichkeit=%{x}<br>Skalierte Rentabilität=%{y}<extra></extra>",
         "legendgroup": "Altersvorsorge",
         "marker": {
          "color": "#636efa",
          "line": {
           "width": 2
          },
          "size": 20,
          "symbol": "circle"
         },
         "mode": "markers",
         "name": "Altersvorsorge",
         "orientation": "v",
         "showlegend": true,
         "type": "scatter",
         "x": [
          0.5485813212269955
         ],
         "xaxis": "x",
         "y": [
          1
         ],
         "yaxis": "y"
        },
        {
         "hovertemplate": "Angebotenes Produkt=Bausparvertrag<br>Skalierte Kaufwahrscheinlichkeit=%{x}<br>Skalierte Rentabilität=%{y}<extra></extra>",
         "legendgroup": "Bausparvertrag",
         "marker": {
          "color": "#EF553B",
          "line": {
           "width": 2
          },
          "size": 20,
          "symbol": "circle"
         },
         "mode": "markers",
         "name": "Bausparvertrag",
         "orientation": "v",
         "showlegend": true,
         "type": "scatter",
         "x": [
          0.8424888210649794
         ],
         "xaxis": "x",
         "y": [
          0.14834578441831453
         ],
         "yaxis": "y"
        },
        {
         "hovertemplate": "Angebotenes Produkt=Depotkonto<br>Skalierte Kaufwahrscheinlichkeit=%{x}<br>Skalierte Rentabilität=%{y}<extra></extra>",
         "legendgroup": "Depotkonto",
         "marker": {
          "color": "#00cc96",
          "line": {
           "width": 2
          },
          "size": 20,
          "symbol": "circle"
         },
         "mode": "markers",
         "name": "Depotkonto",
         "orientation": "v",
         "showlegend": true,
         "type": "scatter",
         "x": [
          0.5236508005703199
         ],
         "xaxis": "x",
         "y": [
          0.2486659551760807
         ],
         "yaxis": "y"
        },
        {
         "hovertemplate": "Angebotenes Produkt=Girokonto<br>Skalierte Kaufwahrscheinlichkeit=%{x}<br>Skalierte Rentabilität=%{y}<extra></extra>",
         "legendgroup": "Girokonto",
         "marker": {
          "color": "#ab63fa",
          "line": {
           "width": 2
          },
          "size": 20,
          "symbol": "circle"
         },
         "mode": "markers",
         "name": "Girokonto",
         "orientation": "v",
         "showlegend": true,
         "type": "scatter",
         "x": [
          1
         ],
         "xaxis": "x",
         "y": [
          0.042689434364972696
         ],
         "yaxis": "y"
        },
        {
         "hovertemplate": "Angebotenes Produkt=Kredit<br>Skalierte Kaufwahrscheinlichkeit=%{x}<br>Skalierte Rentabilität=%{y}<extra></extra>",
         "legendgroup": "Kredit",
         "marker": {
          "color": "#FFA15A",
          "line": {
           "width": 2
          },
          "size": 20,
          "symbol": "circle"
         },
         "mode": "markers",
         "name": "Kredit",
         "orientation": "v",
         "showlegend": true,
         "type": "scatter",
         "x": [
          0.9961303817040066
         ],
         "xaxis": "x",
         "y": [
          0.037353255069302746
         ],
         "yaxis": "y"
        },
        {
         "hovertemplate": "Angebotenes Produkt=Tagesgeldkonto<br>Skalierte Kaufwahrscheinlichkeit=%{x}<br>Skalierte Rentabilität=%{y}<extra></extra>",
         "legendgroup": "Tagesgeldkonto",
         "marker": {
          "color": "#19d3f3",
          "line": {
           "width": 2
          },
          "size": 20,
          "symbol": "circle"
         },
         "mode": "markers",
         "name": "Tagesgeldkonto",
         "orientation": "v",
         "showlegend": true,
         "type": "scatter",
         "x": [
          0.16830584165959858
         ],
         "xaxis": "x",
         "y": [
          0.2465314834578331
         ],
         "yaxis": "y"
        },
        {
         "hovertemplate": "Angebotenes Produkt=Versicherung<br>Skalierte Kaufwahrscheinlichkeit=%{x}<br>Skalierte Rentabilität=%{y}<extra></extra>",
         "legendgroup": "Versicherung",
         "marker": {
          "color": "#FF6692",
          "line": {
           "width": 2
          },
          "size": 20,
          "symbol": "circle"
         },
         "mode": "markers",
         "name": "Versicherung",
         "orientation": "v",
         "showlegend": true,
         "type": "scatter",
         "x": [
          0.750062288478215
         ],
         "xaxis": "x",
         "y": [
          0.9082177161151657
         ],
         "yaxis": "y"
        },
        {
         "marker": {
          "line": {
           "width": 2
          },
          "size": 20
         },
         "mode": "text",
         "showlegend": false,
         "text": [
          "Poor Dogs"
         ],
         "type": "scatter",
         "x": [
          0.25,
          0.25
         ],
         "y": [
          0.45,
          0.45
         ]
        },
        {
         "marker": {
          "line": {
           "width": 2
          },
          "size": 20
         },
         "mode": "text",
         "showlegend": false,
         "text": [
          "Questionmarks"
         ],
         "type": "scatter",
         "x": [
          0.25,
          0.25
         ],
         "y": [
          0.96,
          0.96
         ]
        },
        {
         "marker": {
          "line": {
           "width": 2
          },
          "size": 20
         },
         "mode": "text",
         "showlegend": false,
         "text": [
          "Cash Cows"
         ],
         "type": "scatter",
         "x": [
          0.75,
          0.75
         ],
         "y": [
          0.45,
          0.45
         ]
        },
        {
         "marker": {
          "line": {
           "width": 2
          },
          "size": 20
         },
         "mode": "text",
         "showlegend": false,
         "text": [
          "Stars"
         ],
         "type": "scatter",
         "x": [
          0.75,
          0.75
         ],
         "y": [
          0.96,
          0.96
         ]
        }
       ],
       "layout": {
        "legend": {
         "title": {
          "text": "Angebotenes Produkt"
         },
         "tracegroupgap": 0
        },
        "margin": {
         "t": 60
        },
        "shapes": [
         {
          "line": {
           "color": "RoyalBlue"
          },
          "type": "rect",
          "x0": -0.01,
          "x1": 0.5,
          "y0": -0.01,
          "y1": 0.5
         },
         {
          "line": {
           "color": "RoyalBlue"
          },
          "type": "rect",
          "x0": 0.5,
          "x1": 1.01,
          "y0": -0.01,
          "y1": 0.5
         },
         {
          "line": {
           "color": "RoyalBlue"
          },
          "type": "rect",
          "x0": -0.01,
          "x1": 0.5,
          "y0": 0.5,
          "y1": 1.01
         },
         {
          "line": {
           "color": "RoyalBlue"
          },
          "type": "rect",
          "x0": 0.5,
          "x1": 1.01,
          "y0": 0.5,
          "y1": 1.01
         }
        ],
        "template": {
         "data": {
          "bar": [
           {
            "error_x": {
             "color": "#2a3f5f"
            },
            "error_y": {
             "color": "#2a3f5f"
            },
            "marker": {
             "line": {
              "color": "#E5ECF6",
              "width": 0.5
             }
            },
            "type": "bar"
           }
          ],
          "barpolar": [
           {
            "marker": {
             "line": {
              "color": "#E5ECF6",
              "width": 0.5
             }
            },
            "type": "barpolar"
           }
          ],
          "carpet": [
           {
            "aaxis": {
             "endlinecolor": "#2a3f5f",
             "gridcolor": "white",
             "linecolor": "white",
             "minorgridcolor": "white",
             "startlinecolor": "#2a3f5f"
            },
            "baxis": {
             "endlinecolor": "#2a3f5f",
             "gridcolor": "white",
             "linecolor": "white",
             "minorgridcolor": "white",
             "startlinecolor": "#2a3f5f"
            },
            "type": "carpet"
           }
          ],
          "choropleth": [
           {
            "colorbar": {
             "outlinewidth": 0,
             "ticks": ""
            },
            "type": "choropleth"
           }
          ],
          "contour": [
           {
            "colorbar": {
             "outlinewidth": 0,
             "ticks": ""
            },
            "colorscale": [
             [
              0,
              "#0d0887"
             ],
             [
              0.1111111111111111,
              "#46039f"
             ],
             [
              0.2222222222222222,
              "#7201a8"
             ],
             [
              0.3333333333333333,
              "#9c179e"
             ],
             [
              0.4444444444444444,
              "#bd3786"
             ],
             [
              0.5555555555555556,
              "#d8576b"
             ],
             [
              0.6666666666666666,
              "#ed7953"
             ],
             [
              0.7777777777777778,
              "#fb9f3a"
             ],
             [
              0.8888888888888888,
              "#fdca26"
             ],
             [
              1,
              "#f0f921"
             ]
            ],
            "type": "contour"
           }
          ],
          "contourcarpet": [
           {
            "colorbar": {
             "outlinewidth": 0,
             "ticks": ""
            },
            "type": "contourcarpet"
           }
          ],
          "heatmap": [
           {
            "colorbar": {
             "outlinewidth": 0,
             "ticks": ""
            },
            "colorscale": [
             [
              0,
              "#0d0887"
             ],
             [
              0.1111111111111111,
              "#46039f"
             ],
             [
              0.2222222222222222,
              "#7201a8"
             ],
             [
              0.3333333333333333,
              "#9c179e"
             ],
             [
              0.4444444444444444,
              "#bd3786"
             ],
             [
              0.5555555555555556,
              "#d8576b"
             ],
             [
              0.6666666666666666,
              "#ed7953"
             ],
             [
              0.7777777777777778,
              "#fb9f3a"
             ],
             [
              0.8888888888888888,
              "#fdca26"
             ],
             [
              1,
              "#f0f921"
             ]
            ],
            "type": "heatmap"
           }
          ],
          "heatmapgl": [
           {
            "colorbar": {
             "outlinewidth": 0,
             "ticks": ""
            },
            "colorscale": [
             [
              0,
              "#0d0887"
             ],
             [
              0.1111111111111111,
              "#46039f"
             ],
             [
              0.2222222222222222,
              "#7201a8"
             ],
             [
              0.3333333333333333,
              "#9c179e"
             ],
             [
              0.4444444444444444,
              "#bd3786"
             ],
             [
              0.5555555555555556,
              "#d8576b"
             ],
             [
              0.6666666666666666,
              "#ed7953"
             ],
             [
              0.7777777777777778,
              "#fb9f3a"
             ],
             [
              0.8888888888888888,
              "#fdca26"
             ],
             [
              1,
              "#f0f921"
             ]
            ],
            "type": "heatmapgl"
           }
          ],
          "histogram": [
           {
            "marker": {
             "colorbar": {
              "outlinewidth": 0,
              "ticks": ""
             }
            },
            "type": "histogram"
           }
          ],
          "histogram2d": [
           {
            "colorbar": {
             "outlinewidth": 0,
             "ticks": ""
            },
            "colorscale": [
             [
              0,
              "#0d0887"
             ],
             [
              0.1111111111111111,
              "#46039f"
             ],
             [
              0.2222222222222222,
              "#7201a8"
             ],
             [
              0.3333333333333333,
              "#9c179e"
             ],
             [
              0.4444444444444444,
              "#bd3786"
             ],
             [
              0.5555555555555556,
              "#d8576b"
             ],
             [
              0.6666666666666666,
              "#ed7953"
             ],
             [
              0.7777777777777778,
              "#fb9f3a"
             ],
             [
              0.8888888888888888,
              "#fdca26"
             ],
             [
              1,
              "#f0f921"
             ]
            ],
            "type": "histogram2d"
           }
          ],
          "histogram2dcontour": [
           {
            "colorbar": {
             "outlinewidth": 0,
             "ticks": ""
            },
            "colorscale": [
             [
              0,
              "#0d0887"
             ],
             [
              0.1111111111111111,
              "#46039f"
             ],
             [
              0.2222222222222222,
              "#7201a8"
             ],
             [
              0.3333333333333333,
              "#9c179e"
             ],
             [
              0.4444444444444444,
              "#bd3786"
             ],
             [
              0.5555555555555556,
              "#d8576b"
             ],
             [
              0.6666666666666666,
              "#ed7953"
             ],
             [
              0.7777777777777778,
              "#fb9f3a"
             ],
             [
              0.8888888888888888,
              "#fdca26"
             ],
             [
              1,
              "#f0f921"
             ]
            ],
            "type": "histogram2dcontour"
           }
          ],
          "mesh3d": [
           {
            "colorbar": {
             "outlinewidth": 0,
             "ticks": ""
            },
            "type": "mesh3d"
           }
          ],
          "parcoords": [
           {
            "line": {
             "colorbar": {
              "outlinewidth": 0,
              "ticks": ""
             }
            },
            "type": "parcoords"
           }
          ],
          "pie": [
           {
            "automargin": true,
            "type": "pie"
           }
          ],
          "scatter": [
           {
            "marker": {
             "colorbar": {
              "outlinewidth": 0,
              "ticks": ""
             }
            },
            "type": "scatter"
           }
          ],
          "scatter3d": [
           {
            "line": {
             "colorbar": {
              "outlinewidth": 0,
              "ticks": ""
             }
            },
            "marker": {
             "colorbar": {
              "outlinewidth": 0,
              "ticks": ""
             }
            },
            "type": "scatter3d"
           }
          ],
          "scattercarpet": [
           {
            "marker": {
             "colorbar": {
              "outlinewidth": 0,
              "ticks": ""
             }
            },
            "type": "scattercarpet"
           }
          ],
          "scattergeo": [
           {
            "marker": {
             "colorbar": {
              "outlinewidth": 0,
              "ticks": ""
             }
            },
            "type": "scattergeo"
           }
          ],
          "scattergl": [
           {
            "marker": {
             "colorbar": {
              "outlinewidth": 0,
              "ticks": ""
             }
            },
            "type": "scattergl"
           }
          ],
          "scattermapbox": [
           {
            "marker": {
             "colorbar": {
              "outlinewidth": 0,
              "ticks": ""
             }
            },
            "type": "scattermapbox"
           }
          ],
          "scatterpolar": [
           {
            "marker": {
             "colorbar": {
              "outlinewidth": 0,
              "ticks": ""
             }
            },
            "type": "scatterpolar"
           }
          ],
          "scatterpolargl": [
           {
            "marker": {
             "colorbar": {
              "outlinewidth": 0,
              "ticks": ""
             }
            },
            "type": "scatterpolargl"
           }
          ],
          "scatterternary": [
           {
            "marker": {
             "colorbar": {
              "outlinewidth": 0,
              "ticks": ""
             }
            },
            "type": "scatterternary"
           }
          ],
          "surface": [
           {
            "colorbar": {
             "outlinewidth": 0,
             "ticks": ""
            },
            "colorscale": [
             [
              0,
              "#0d0887"
             ],
             [
              0.1111111111111111,
              "#46039f"
             ],
             [
              0.2222222222222222,
              "#7201a8"
             ],
             [
              0.3333333333333333,
              "#9c179e"
             ],
             [
              0.4444444444444444,
              "#bd3786"
             ],
             [
              0.5555555555555556,
              "#d8576b"
             ],
             [
              0.6666666666666666,
              "#ed7953"
             ],
             [
              0.7777777777777778,
              "#fb9f3a"
             ],
             [
              0.8888888888888888,
              "#fdca26"
             ],
             [
              1,
              "#f0f921"
             ]
            ],
            "type": "surface"
           }
          ],
          "table": [
           {
            "cells": {
             "fill": {
              "color": "#EBF0F8"
             },
             "line": {
              "color": "white"
             }
            },
            "header": {
             "fill": {
              "color": "#C8D4E3"
             },
             "line": {
              "color": "white"
             }
            },
            "type": "table"
           }
          ]
         },
         "layout": {
          "annotationdefaults": {
           "arrowcolor": "#2a3f5f",
           "arrowhead": 0,
           "arrowwidth": 1
          },
          "autotypenumbers": "strict",
          "coloraxis": {
           "colorbar": {
            "outlinewidth": 0,
            "ticks": ""
           }
          },
          "colorscale": {
           "diverging": [
            [
             0,
             "#8e0152"
            ],
            [
             0.1,
             "#c51b7d"
            ],
            [
             0.2,
             "#de77ae"
            ],
            [
             0.3,
             "#f1b6da"
            ],
            [
             0.4,
             "#fde0ef"
            ],
            [
             0.5,
             "#f7f7f7"
            ],
            [
             0.6,
             "#e6f5d0"
            ],
            [
             0.7,
             "#b8e186"
            ],
            [
             0.8,
             "#7fbc41"
            ],
            [
             0.9,
             "#4d9221"
            ],
            [
             1,
             "#276419"
            ]
           ],
           "sequential": [
            [
             0,
             "#0d0887"
            ],
            [
             0.1111111111111111,
             "#46039f"
            ],
            [
             0.2222222222222222,
             "#7201a8"
            ],
            [
             0.3333333333333333,
             "#9c179e"
            ],
            [
             0.4444444444444444,
             "#bd3786"
            ],
            [
             0.5555555555555556,
             "#d8576b"
            ],
            [
             0.6666666666666666,
             "#ed7953"
            ],
            [
             0.7777777777777778,
             "#fb9f3a"
            ],
            [
             0.8888888888888888,
             "#fdca26"
            ],
            [
             1,
             "#f0f921"
            ]
           ],
           "sequentialminus": [
            [
             0,
             "#0d0887"
            ],
            [
             0.1111111111111111,
             "#46039f"
            ],
            [
             0.2222222222222222,
             "#7201a8"
            ],
            [
             0.3333333333333333,
             "#9c179e"
            ],
            [
             0.4444444444444444,
             "#bd3786"
            ],
            [
             0.5555555555555556,
             "#d8576b"
            ],
            [
             0.6666666666666666,
             "#ed7953"
            ],
            [
             0.7777777777777778,
             "#fb9f3a"
            ],
            [
             0.8888888888888888,
             "#fdca26"
            ],
            [
             1,
             "#f0f921"
            ]
           ]
          },
          "colorway": [
           "#636efa",
           "#EF553B",
           "#00cc96",
           "#ab63fa",
           "#FFA15A",
           "#19d3f3",
           "#FF6692",
           "#B6E880",
           "#FF97FF",
           "#FECB52"
          ],
          "font": {
           "color": "#2a3f5f"
          },
          "geo": {
           "bgcolor": "white",
           "lakecolor": "white",
           "landcolor": "#E5ECF6",
           "showlakes": true,
           "showland": true,
           "subunitcolor": "white"
          },
          "hoverlabel": {
           "align": "left"
          },
          "hovermode": "closest",
          "mapbox": {
           "style": "light"
          },
          "paper_bgcolor": "white",
          "plot_bgcolor": "#E5ECF6",
          "polar": {
           "angularaxis": {
            "gridcolor": "white",
            "linecolor": "white",
            "ticks": ""
           },
           "bgcolor": "#E5ECF6",
           "radialaxis": {
            "gridcolor": "white",
            "linecolor": "white",
            "ticks": ""
           }
          },
          "scene": {
           "xaxis": {
            "backgroundcolor": "#E5ECF6",
            "gridcolor": "white",
            "gridwidth": 2,
            "linecolor": "white",
            "showbackground": true,
            "ticks": "",
            "zerolinecolor": "white"
           },
           "yaxis": {
            "backgroundcolor": "#E5ECF6",
            "gridcolor": "white",
            "gridwidth": 2,
            "linecolor": "white",
            "showbackground": true,
            "ticks": "",
            "zerolinecolor": "white"
           },
           "zaxis": {
            "backgroundcolor": "#E5ECF6",
            "gridcolor": "white",
            "gridwidth": 2,
            "linecolor": "white",
            "showbackground": true,
            "ticks": "",
            "zerolinecolor": "white"
           }
          },
          "shapedefaults": {
           "line": {
            "color": "#2a3f5f"
           }
          },
          "ternary": {
           "aaxis": {
            "gridcolor": "white",
            "linecolor": "white",
            "ticks": ""
           },
           "baxis": {
            "gridcolor": "white",
            "linecolor": "white",
            "ticks": ""
           },
           "bgcolor": "#E5ECF6",
           "caxis": {
            "gridcolor": "white",
            "linecolor": "white",
            "ticks": ""
           }
          },
          "title": {
           "x": 0.05
          },
          "xaxis": {
           "automargin": true,
           "gridcolor": "white",
           "linecolor": "white",
           "ticks": "",
           "title": {
            "standoff": 15
           },
           "zerolinecolor": "white",
           "zerolinewidth": 2
          },
          "yaxis": {
           "automargin": true,
           "gridcolor": "white",
           "linecolor": "white",
           "ticks": "",
           "title": {
            "standoff": 15
           },
           "zerolinecolor": "white",
           "zerolinewidth": 2
          }
         }
        },
        "xaxis": {
         "anchor": "y",
         "domain": [
          0,
          1
         ],
         "range": [
          -0.01,
          1.01
         ],
         "showgrid": false,
         "title": {
          "text": "Skalierte Kaufwahrscheinlichkeit"
         }
        },
        "yaxis": {
         "anchor": "x",
         "domain": [
          0,
          1
         ],
         "range": [
          -0.01,
          1.01
         ],
         "showgrid": false,
         "title": {
          "text": "Skalierte Rentabilität"
         }
        }
       }
      },
      "text/html": [
       "<div>                            <div id=\"7ab87126-6331-4f9c-b88f-d6c6ee98addb\" class=\"plotly-graph-div\" style=\"height:525px; width:100%;\"></div>            <script type=\"text/javascript\">                require([\"plotly\"], function(Plotly) {                    window.PLOTLYENV=window.PLOTLYENV || {};                                    if (document.getElementById(\"7ab87126-6331-4f9c-b88f-d6c6ee98addb\")) {                    Plotly.newPlot(                        \"7ab87126-6331-4f9c-b88f-d6c6ee98addb\",                        [{\"hovertemplate\": \"Angebotenes Produkt=Altersvorsorge<br>Skalierte Kaufwahrscheinlichkeit=%{x}<br>Skalierte Rentabilit\\u00e4t=%{y}<extra></extra>\", \"legendgroup\": \"Altersvorsorge\", \"marker\": {\"color\": \"#636efa\", \"line\": {\"width\": 2}, \"size\": 20, \"symbol\": \"circle\"}, \"mode\": \"markers\", \"name\": \"Altersvorsorge\", \"orientation\": \"v\", \"showlegend\": true, \"type\": \"scatter\", \"x\": [0.5485813212269955], \"xaxis\": \"x\", \"y\": [1.0], \"yaxis\": \"y\"}, {\"hovertemplate\": \"Angebotenes Produkt=Bausparvertrag<br>Skalierte Kaufwahrscheinlichkeit=%{x}<br>Skalierte Rentabilit\\u00e4t=%{y}<extra></extra>\", \"legendgroup\": \"Bausparvertrag\", \"marker\": {\"color\": \"#EF553B\", \"line\": {\"width\": 2}, \"size\": 20, \"symbol\": \"circle\"}, \"mode\": \"markers\", \"name\": \"Bausparvertrag\", \"orientation\": \"v\", \"showlegend\": true, \"type\": \"scatter\", \"x\": [0.8424888210649794], \"xaxis\": \"x\", \"y\": [0.14834578441831453], \"yaxis\": \"y\"}, {\"hovertemplate\": \"Angebotenes Produkt=Depotkonto<br>Skalierte Kaufwahrscheinlichkeit=%{x}<br>Skalierte Rentabilit\\u00e4t=%{y}<extra></extra>\", \"legendgroup\": \"Depotkonto\", \"marker\": {\"color\": \"#00cc96\", \"line\": {\"width\": 2}, \"size\": 20, \"symbol\": \"circle\"}, \"mode\": \"markers\", \"name\": \"Depotkonto\", \"orientation\": \"v\", \"showlegend\": true, \"type\": \"scatter\", \"x\": [0.5236508005703199], \"xaxis\": \"x\", \"y\": [0.2486659551760807], \"yaxis\": \"y\"}, {\"hovertemplate\": \"Angebotenes Produkt=Girokonto<br>Skalierte Kaufwahrscheinlichkeit=%{x}<br>Skalierte Rentabilit\\u00e4t=%{y}<extra></extra>\", \"legendgroup\": \"Girokonto\", \"marker\": {\"color\": \"#ab63fa\", \"line\": {\"width\": 2}, \"size\": 20, \"symbol\": \"circle\"}, \"mode\": \"markers\", \"name\": \"Girokonto\", \"orientation\": \"v\", \"showlegend\": true, \"type\": \"scatter\", \"x\": [1.0], \"xaxis\": \"x\", \"y\": [0.042689434364972696], \"yaxis\": \"y\"}, {\"hovertemplate\": \"Angebotenes Produkt=Kredit<br>Skalierte Kaufwahrscheinlichkeit=%{x}<br>Skalierte Rentabilit\\u00e4t=%{y}<extra></extra>\", \"legendgroup\": \"Kredit\", \"marker\": {\"color\": \"#FFA15A\", \"line\": {\"width\": 2}, \"size\": 20, \"symbol\": \"circle\"}, \"mode\": \"markers\", \"name\": \"Kredit\", \"orientation\": \"v\", \"showlegend\": true, \"type\": \"scatter\", \"x\": [0.9961303817040066], \"xaxis\": \"x\", \"y\": [0.037353255069302746], \"yaxis\": \"y\"}, {\"hovertemplate\": \"Angebotenes Produkt=Tagesgeldkonto<br>Skalierte Kaufwahrscheinlichkeit=%{x}<br>Skalierte Rentabilit\\u00e4t=%{y}<extra></extra>\", \"legendgroup\": \"Tagesgeldkonto\", \"marker\": {\"color\": \"#19d3f3\", \"line\": {\"width\": 2}, \"size\": 20, \"symbol\": \"circle\"}, \"mode\": \"markers\", \"name\": \"Tagesgeldkonto\", \"orientation\": \"v\", \"showlegend\": true, \"type\": \"scatter\", \"x\": [0.16830584165959858], \"xaxis\": \"x\", \"y\": [0.2465314834578331], \"yaxis\": \"y\"}, {\"hovertemplate\": \"Angebotenes Produkt=Versicherung<br>Skalierte Kaufwahrscheinlichkeit=%{x}<br>Skalierte Rentabilit\\u00e4t=%{y}<extra></extra>\", \"legendgroup\": \"Versicherung\", \"marker\": {\"color\": \"#FF6692\", \"line\": {\"width\": 2}, \"size\": 20, \"symbol\": \"circle\"}, \"mode\": \"markers\", \"name\": \"Versicherung\", \"orientation\": \"v\", \"showlegend\": true, \"type\": \"scatter\", \"x\": [0.750062288478215], \"xaxis\": \"x\", \"y\": [0.9082177161151657], \"yaxis\": \"y\"}, {\"marker\": {\"line\": {\"width\": 2}, \"size\": 20}, \"mode\": \"text\", \"showlegend\": false, \"text\": [\"Poor Dogs\"], \"type\": \"scatter\", \"x\": [0.25, 0.25], \"y\": [0.45, 0.45]}, {\"marker\": {\"line\": {\"width\": 2}, \"size\": 20}, \"mode\": \"text\", \"showlegend\": false, \"text\": [\"Questionmarks\"], \"type\": \"scatter\", \"x\": [0.25, 0.25], \"y\": [0.96, 0.96]}, {\"marker\": {\"line\": {\"width\": 2}, \"size\": 20}, \"mode\": \"text\", \"showlegend\": false, \"text\": [\"Cash Cows\"], \"type\": \"scatter\", \"x\": [0.75, 0.75], \"y\": [0.45, 0.45]}, {\"marker\": {\"line\": {\"width\": 2}, \"size\": 20}, \"mode\": \"text\", \"showlegend\": false, \"text\": [\"Stars\"], \"type\": \"scatter\", \"x\": [0.75, 0.75], \"y\": [0.96, 0.96]}],                        {\"legend\": {\"title\": {\"text\": \"Angebotenes Produkt\"}, \"tracegroupgap\": 0}, \"margin\": {\"t\": 60}, \"shapes\": [{\"line\": {\"color\": \"RoyalBlue\"}, \"type\": \"rect\", \"x0\": -0.01, \"x1\": 0.5, \"y0\": -0.01, \"y1\": 0.5}, {\"line\": {\"color\": \"RoyalBlue\"}, \"type\": \"rect\", \"x0\": 0.5, \"x1\": 1.01, \"y0\": -0.01, \"y1\": 0.5}, {\"line\": {\"color\": \"RoyalBlue\"}, \"type\": \"rect\", \"x0\": -0.01, \"x1\": 0.5, \"y0\": 0.5, \"y1\": 1.01}, {\"line\": {\"color\": \"RoyalBlue\"}, \"type\": \"rect\", \"x0\": 0.5, \"x1\": 1.01, \"y0\": 0.5, \"y1\": 1.01}], \"template\": {\"data\": {\"bar\": [{\"error_x\": {\"color\": \"#2a3f5f\"}, \"error_y\": {\"color\": \"#2a3f5f\"}, \"marker\": {\"line\": {\"color\": \"#E5ECF6\", \"width\": 0.5}}, \"type\": \"bar\"}], \"barpolar\": [{\"marker\": {\"line\": {\"color\": \"#E5ECF6\", \"width\": 0.5}}, \"type\": \"barpolar\"}], \"carpet\": [{\"aaxis\": {\"endlinecolor\": \"#2a3f5f\", \"gridcolor\": \"white\", \"linecolor\": \"white\", \"minorgridcolor\": \"white\", \"startlinecolor\": \"#2a3f5f\"}, \"baxis\": {\"endlinecolor\": \"#2a3f5f\", \"gridcolor\": \"white\", \"linecolor\": \"white\", \"minorgridcolor\": \"white\", \"startlinecolor\": \"#2a3f5f\"}, \"type\": \"carpet\"}], \"choropleth\": [{\"colorbar\": {\"outlinewidth\": 0, \"ticks\": \"\"}, \"type\": \"choropleth\"}], \"contour\": [{\"colorbar\": {\"outlinewidth\": 0, \"ticks\": \"\"}, \"colorscale\": [[0.0, \"#0d0887\"], [0.1111111111111111, \"#46039f\"], [0.2222222222222222, \"#7201a8\"], [0.3333333333333333, \"#9c179e\"], [0.4444444444444444, \"#bd3786\"], [0.5555555555555556, \"#d8576b\"], [0.6666666666666666, \"#ed7953\"], [0.7777777777777778, \"#fb9f3a\"], [0.8888888888888888, \"#fdca26\"], [1.0, \"#f0f921\"]], \"type\": \"contour\"}], \"contourcarpet\": [{\"colorbar\": {\"outlinewidth\": 0, \"ticks\": \"\"}, \"type\": \"contourcarpet\"}], \"heatmap\": [{\"colorbar\": {\"outlinewidth\": 0, \"ticks\": \"\"}, \"colorscale\": [[0.0, \"#0d0887\"], [0.1111111111111111, \"#46039f\"], [0.2222222222222222, \"#7201a8\"], [0.3333333333333333, \"#9c179e\"], [0.4444444444444444, \"#bd3786\"], [0.5555555555555556, \"#d8576b\"], [0.6666666666666666, \"#ed7953\"], [0.7777777777777778, \"#fb9f3a\"], [0.8888888888888888, \"#fdca26\"], [1.0, \"#f0f921\"]], \"type\": \"heatmap\"}], \"heatmapgl\": [{\"colorbar\": {\"outlinewidth\": 0, \"ticks\": \"\"}, \"colorscale\": [[0.0, \"#0d0887\"], [0.1111111111111111, \"#46039f\"], [0.2222222222222222, \"#7201a8\"], [0.3333333333333333, \"#9c179e\"], [0.4444444444444444, \"#bd3786\"], [0.5555555555555556, \"#d8576b\"], [0.6666666666666666, \"#ed7953\"], [0.7777777777777778, \"#fb9f3a\"], [0.8888888888888888, \"#fdca26\"], [1.0, \"#f0f921\"]], \"type\": \"heatmapgl\"}], \"histogram\": [{\"marker\": {\"colorbar\": {\"outlinewidth\": 0, \"ticks\": \"\"}}, \"type\": \"histogram\"}], \"histogram2d\": [{\"colorbar\": {\"outlinewidth\": 0, \"ticks\": \"\"}, \"colorscale\": [[0.0, \"#0d0887\"], [0.1111111111111111, \"#46039f\"], [0.2222222222222222, \"#7201a8\"], [0.3333333333333333, \"#9c179e\"], [0.4444444444444444, \"#bd3786\"], [0.5555555555555556, \"#d8576b\"], [0.6666666666666666, \"#ed7953\"], [0.7777777777777778, \"#fb9f3a\"], [0.8888888888888888, \"#fdca26\"], [1.0, \"#f0f921\"]], \"type\": \"histogram2d\"}], \"histogram2dcontour\": [{\"colorbar\": {\"outlinewidth\": 0, \"ticks\": \"\"}, \"colorscale\": [[0.0, \"#0d0887\"], [0.1111111111111111, \"#46039f\"], [0.2222222222222222, \"#7201a8\"], [0.3333333333333333, \"#9c179e\"], [0.4444444444444444, \"#bd3786\"], [0.5555555555555556, \"#d8576b\"], [0.6666666666666666, \"#ed7953\"], [0.7777777777777778, \"#fb9f3a\"], [0.8888888888888888, \"#fdca26\"], [1.0, \"#f0f921\"]], \"type\": \"histogram2dcontour\"}], \"mesh3d\": [{\"colorbar\": {\"outlinewidth\": 0, \"ticks\": \"\"}, \"type\": \"mesh3d\"}], \"parcoords\": [{\"line\": {\"colorbar\": {\"outlinewidth\": 0, \"ticks\": \"\"}}, \"type\": \"parcoords\"}], \"pie\": [{\"automargin\": true, \"type\": \"pie\"}], \"scatter\": [{\"marker\": {\"colorbar\": {\"outlinewidth\": 0, \"ticks\": \"\"}}, \"type\": \"scatter\"}], \"scatter3d\": [{\"line\": {\"colorbar\": {\"outlinewidth\": 0, \"ticks\": \"\"}}, \"marker\": {\"colorbar\": {\"outlinewidth\": 0, \"ticks\": \"\"}}, \"type\": \"scatter3d\"}], \"scattercarpet\": [{\"marker\": {\"colorbar\": {\"outlinewidth\": 0, \"ticks\": \"\"}}, \"type\": \"scattercarpet\"}], \"scattergeo\": [{\"marker\": {\"colorbar\": {\"outlinewidth\": 0, \"ticks\": \"\"}}, \"type\": \"scattergeo\"}], \"scattergl\": [{\"marker\": {\"colorbar\": {\"outlinewidth\": 0, \"ticks\": \"\"}}, \"type\": \"scattergl\"}], \"scattermapbox\": [{\"marker\": {\"colorbar\": {\"outlinewidth\": 0, \"ticks\": \"\"}}, \"type\": \"scattermapbox\"}], \"scatterpolar\": [{\"marker\": {\"colorbar\": {\"outlinewidth\": 0, \"ticks\": \"\"}}, \"type\": \"scatterpolar\"}], \"scatterpolargl\": [{\"marker\": {\"colorbar\": {\"outlinewidth\": 0, \"ticks\": \"\"}}, \"type\": \"scatterpolargl\"}], \"scatterternary\": [{\"marker\": {\"colorbar\": {\"outlinewidth\": 0, \"ticks\": \"\"}}, \"type\": \"scatterternary\"}], \"surface\": [{\"colorbar\": {\"outlinewidth\": 0, \"ticks\": \"\"}, \"colorscale\": [[0.0, \"#0d0887\"], [0.1111111111111111, \"#46039f\"], [0.2222222222222222, \"#7201a8\"], [0.3333333333333333, \"#9c179e\"], [0.4444444444444444, \"#bd3786\"], [0.5555555555555556, \"#d8576b\"], [0.6666666666666666, \"#ed7953\"], [0.7777777777777778, \"#fb9f3a\"], [0.8888888888888888, \"#fdca26\"], [1.0, \"#f0f921\"]], \"type\": \"surface\"}], \"table\": [{\"cells\": {\"fill\": {\"color\": \"#EBF0F8\"}, \"line\": {\"color\": \"white\"}}, \"header\": {\"fill\": {\"color\": \"#C8D4E3\"}, \"line\": {\"color\": \"white\"}}, \"type\": \"table\"}]}, \"layout\": {\"annotationdefaults\": {\"arrowcolor\": \"#2a3f5f\", \"arrowhead\": 0, \"arrowwidth\": 1}, \"autotypenumbers\": \"strict\", \"coloraxis\": {\"colorbar\": {\"outlinewidth\": 0, \"ticks\": \"\"}}, \"colorscale\": {\"diverging\": [[0, \"#8e0152\"], [0.1, \"#c51b7d\"], [0.2, \"#de77ae\"], [0.3, \"#f1b6da\"], [0.4, \"#fde0ef\"], [0.5, \"#f7f7f7\"], [0.6, \"#e6f5d0\"], [0.7, \"#b8e186\"], [0.8, \"#7fbc41\"], [0.9, \"#4d9221\"], [1, \"#276419\"]], \"sequential\": [[0.0, \"#0d0887\"], [0.1111111111111111, \"#46039f\"], [0.2222222222222222, \"#7201a8\"], [0.3333333333333333, \"#9c179e\"], [0.4444444444444444, \"#bd3786\"], [0.5555555555555556, \"#d8576b\"], [0.6666666666666666, \"#ed7953\"], [0.7777777777777778, \"#fb9f3a\"], [0.8888888888888888, \"#fdca26\"], [1.0, \"#f0f921\"]], \"sequentialminus\": [[0.0, \"#0d0887\"], [0.1111111111111111, \"#46039f\"], [0.2222222222222222, \"#7201a8\"], [0.3333333333333333, \"#9c179e\"], [0.4444444444444444, \"#bd3786\"], [0.5555555555555556, \"#d8576b\"], [0.6666666666666666, \"#ed7953\"], [0.7777777777777778, \"#fb9f3a\"], [0.8888888888888888, \"#fdca26\"], [1.0, \"#f0f921\"]]}, \"colorway\": [\"#636efa\", \"#EF553B\", \"#00cc96\", \"#ab63fa\", \"#FFA15A\", \"#19d3f3\", \"#FF6692\", \"#B6E880\", \"#FF97FF\", \"#FECB52\"], \"font\": {\"color\": \"#2a3f5f\"}, \"geo\": {\"bgcolor\": \"white\", \"lakecolor\": \"white\", \"landcolor\": \"#E5ECF6\", \"showlakes\": true, \"showland\": true, \"subunitcolor\": \"white\"}, \"hoverlabel\": {\"align\": \"left\"}, \"hovermode\": \"closest\", \"mapbox\": {\"style\": \"light\"}, \"paper_bgcolor\": \"white\", \"plot_bgcolor\": \"#E5ECF6\", \"polar\": {\"angularaxis\": {\"gridcolor\": \"white\", \"linecolor\": \"white\", \"ticks\": \"\"}, \"bgcolor\": \"#E5ECF6\", \"radialaxis\": {\"gridcolor\": \"white\", \"linecolor\": \"white\", \"ticks\": \"\"}}, \"scene\": {\"xaxis\": {\"backgroundcolor\": \"#E5ECF6\", \"gridcolor\": \"white\", \"gridwidth\": 2, \"linecolor\": \"white\", \"showbackground\": true, \"ticks\": \"\", \"zerolinecolor\": \"white\"}, \"yaxis\": {\"backgroundcolor\": \"#E5ECF6\", \"gridcolor\": \"white\", \"gridwidth\": 2, \"linecolor\": \"white\", \"showbackground\": true, \"ticks\": \"\", \"zerolinecolor\": \"white\"}, \"zaxis\": {\"backgroundcolor\": \"#E5ECF6\", \"gridcolor\": \"white\", \"gridwidth\": 2, \"linecolor\": \"white\", \"showbackground\": true, \"ticks\": \"\", \"zerolinecolor\": \"white\"}}, \"shapedefaults\": {\"line\": {\"color\": \"#2a3f5f\"}}, \"ternary\": {\"aaxis\": {\"gridcolor\": \"white\", \"linecolor\": \"white\", \"ticks\": \"\"}, \"baxis\": {\"gridcolor\": \"white\", \"linecolor\": \"white\", \"ticks\": \"\"}, \"bgcolor\": \"#E5ECF6\", \"caxis\": {\"gridcolor\": \"white\", \"linecolor\": \"white\", \"ticks\": \"\"}}, \"title\": {\"x\": 0.05}, \"xaxis\": {\"automargin\": true, \"gridcolor\": \"white\", \"linecolor\": \"white\", \"ticks\": \"\", \"title\": {\"standoff\": 15}, \"zerolinecolor\": \"white\", \"zerolinewidth\": 2}, \"yaxis\": {\"automargin\": true, \"gridcolor\": \"white\", \"linecolor\": \"white\", \"ticks\": \"\", \"title\": {\"standoff\": 15}, \"zerolinecolor\": \"white\", \"zerolinewidth\": 2}}}, \"xaxis\": {\"anchor\": \"y\", \"domain\": [0.0, 1.0], \"range\": [-0.01, 1.01], \"showgrid\": false, \"title\": {\"text\": \"Skalierte Kaufwahrscheinlichkeit\"}}, \"yaxis\": {\"anchor\": \"x\", \"domain\": [0.0, 1.0], \"range\": [-0.01, 1.01], \"showgrid\": false, \"title\": {\"text\": \"Skalierte Rentabilit\\u00e4t\"}}},                        {\"responsive\": true}                    ).then(function(){\n",
       "                            \n",
       "var gd = document.getElementById('7ab87126-6331-4f9c-b88f-d6c6ee98addb');\n",
       "var x = new MutationObserver(function (mutations, observer) {{\n",
       "        var display = window.getComputedStyle(gd).display;\n",
       "        if (!display || display === 'none') {{\n",
       "            console.log([gd, 'removed!']);\n",
       "            Plotly.purge(gd);\n",
       "            observer.disconnect();\n",
       "        }}\n",
       "}});\n",
       "\n",
       "// Listen for the removal of the full notebook cells\n",
       "var notebookContainer = gd.closest('#notebook-container');\n",
       "if (notebookContainer) {{\n",
       "    x.observe(notebookContainer, {childList: true});\n",
       "}}\n",
       "\n",
       "// Listen for the clearing of the current output cell\n",
       "var outputEl = gd.closest('.output');\n",
       "if (outputEl) {{\n",
       "    x.observe(outputEl, {childList: true});\n",
       "}}\n",
       "\n",
       "                        })                };                });            </script>        </div>"
      ]
     },
     "metadata": {},
     "output_type": "display_data"
    }
   ],
   "source": [
    "fig = px.scatter(df_BCG, x=df_BCG[\"Kaufwahrscheinlichkeit\"]/prob_max, y=df_BCG[\"Rentabilität\"]/rent_max, color=\"Angebotenes Produkt\",\n",
    "                labels={\n",
    "                     \"x\": \"Skalierte Kaufwahrscheinlichkeit\",\n",
    "                     \"y\": \"Skalierte Rentabilität\"\n",
    "                 },)\n",
    "\n",
    "\n",
    "\n",
    "\n",
    "fig.add_trace(go.Scatter(\n",
    "    x=[0.25, 0.25],\n",
    "    y=[0.45, 0.45],\n",
    "    text=[\"Poor Dogs\"],\n",
    "    mode=\"text\",showlegend = False\n",
    "))\n",
    "fig.add_trace(go.Scatter(\n",
    "    x=[0.25, 0.25],\n",
    "    y=[0.96, 0.96],\n",
    "    text=[\"Questionmarks\"],\n",
    "    mode=\"text\",showlegend = False\n",
    "))\n",
    "fig.add_trace(go.Scatter(\n",
    "    x=[0.75, 0.75],\n",
    "    y=[0.45, 0.45],\n",
    "    text=[\"Cash Cows\"],\n",
    "    mode=\"text\",showlegend = False\n",
    "))\n",
    "fig.add_trace(go.Scatter(\n",
    "    x=[0.75, 0.75],\n",
    "    y=[0.96, 0.96],\n",
    "    text=[\"Stars\"],\n",
    "    mode=\"text\",showlegend = False\n",
    "))\n",
    "\n",
    "fig.update_xaxes(range=[-0.01, 1.01], showgrid=False)\n",
    "fig.update_yaxes(range=[-0.01, 1.01], showgrid=False)\n",
    "\n",
    "fig.add_shape(type=\"rect\",\n",
    "    x0=-0.01, y0=-0.01, x1=0.5, y1=0.5,\n",
    "    line=dict(color=\"RoyalBlue\"),\n",
    ")\n",
    "fig.add_shape(type=\"rect\",\n",
    "    x0=0.5, y0=-0.01, x1=1.01, y1=0.5,\n",
    "    line=dict(color=\"RoyalBlue\"),\n",
    ")\n",
    "fig.add_shape(type=\"rect\",\n",
    "    x0=-0.01, y0=0.5, x1=0.5, y1=1.01,\n",
    "    line=dict(color=\"RoyalBlue\"),\n",
    ")\n",
    "fig.add_shape(type=\"rect\",\n",
    "    x0=0.5, y0=0.5, x1=1.01, y1=1.01,\n",
    "    line=dict(color=\"RoyalBlue\"),\n",
    ")\n",
    "        \n",
    "fig.update_traces(marker=dict(size=20,line=dict(width=2)))"
   ]
  }
 ],
 "metadata": {
  "kernelspec": {
   "display_name": "Python 3",
   "language": "python",
   "name": "python3"
  },
  "language_info": {
   "codemirror_mode": {
    "name": "ipython",
    "version": 3
   },
   "file_extension": ".py",
   "mimetype": "text/x-python",
   "name": "python",
   "nbconvert_exporter": "python",
   "pygments_lexer": "ipython3",
   "version": "3.8.5"
  }
 },
 "nbformat": 4,
 "nbformat_minor": 4
}
