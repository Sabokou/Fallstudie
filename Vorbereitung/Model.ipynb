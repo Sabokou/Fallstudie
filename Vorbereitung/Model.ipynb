{
 "cells": [
  {
   "cell_type": "markdown",
   "metadata": {},
   "source": [
    "# Fallstudie"
   ]
  },
  {
   "cell_type": "markdown",
   "metadata": {},
   "source": [
    "## Import Pakete"
   ]
  },
  {
   "cell_type": "code",
   "execution_count": 80,
   "metadata": {},
   "outputs": [],
   "source": [
    "import pandas as pd\n",
    "import numpy as np\n",
    "import sqlite3\n",
    "import sklearn\n",
    "from sklearn.model_selection import train_test_split\n",
    "from sklearn.ensemble import RandomForestClassifier\n",
    "from xgboost import XGBClassifier\n",
    "from sqlalchemy import create_engine \n",
    "from sklearn.neighbors import KNeighborsClassifier\n",
    "import pickle"
   ]
  },
  {
   "cell_type": "markdown",
   "metadata": {},
   "source": [
    "## Import Datenbank"
   ]
  },
  {
   "cell_type": "code",
   "execution_count": 81,
   "metadata": {},
   "outputs": [],
   "source": [
    "cnx = create_engine('sqlite:///C:/Users/lucaf/Documents/Notebooks/Fallstudie/Kundendaten.db').connect() \n",
    "  \n",
    "df = pd.read_sql_table('testdaten', cnx) "
   ]
  },
  {
   "cell_type": "code",
   "execution_count": 82,
   "metadata": {},
   "outputs": [],
   "source": [
    "#df = df.head(100000)"
   ]
  },
  {
   "cell_type": "markdown",
   "metadata": {},
   "source": [
    "## Datenmodellierung "
   ]
  },
  {
   "cell_type": "code",
   "execution_count": 83,
   "metadata": {},
   "outputs": [],
   "source": [
    "df = df.drop([\"Datum\"], 1)\n",
    "df = df.drop([\"Anzahl\"], 1)\n",
    "df = df.drop([\"Gewinn\"], 1)\n",
    "df = df.drop([\"Jahr\"], 1)\n",
    "df = df.drop([\"Monat\"], 1)\n",
    "df = df.drop([\"Tag\"], 1)\n",
    "df = df.drop([\"index\"], 1)"
   ]
  },
  {
   "cell_type": "code",
   "execution_count": 84,
   "metadata": {},
   "outputs": [
    {
     "data": {
      "text/html": [
       "<div>\n",
       "<style scoped>\n",
       "    .dataframe tbody tr th:only-of-type {\n",
       "        vertical-align: middle;\n",
       "    }\n",
       "\n",
       "    .dataframe tbody tr th {\n",
       "        vertical-align: top;\n",
       "    }\n",
       "\n",
       "    .dataframe thead th {\n",
       "        text-align: right;\n",
       "    }\n",
       "</style>\n",
       "<table border=\"1\" class=\"dataframe\">\n",
       "  <thead>\n",
       "    <tr style=\"text-align: right;\">\n",
       "      <th></th>\n",
       "      <th>Alter</th>\n",
       "      <th>Geschlecht</th>\n",
       "      <th>Job</th>\n",
       "      <th>Familienstand</th>\n",
       "      <th>Kinder</th>\n",
       "      <th>Gehalt</th>\n",
       "      <th>Angebotenes Produkt</th>\n",
       "      <th>Gekauft</th>\n",
       "    </tr>\n",
       "  </thead>\n",
       "  <tbody>\n",
       "    <tr>\n",
       "      <th>0</th>\n",
       "      <td>47</td>\n",
       "      <td>M</td>\n",
       "      <td>Öffentlicher Dienst</td>\n",
       "      <td>verheiratet</td>\n",
       "      <td>ja</td>\n",
       "      <td>42000.0</td>\n",
       "      <td>Depotkonto</td>\n",
       "      <td>nein</td>\n",
       "    </tr>\n",
       "    <tr>\n",
       "      <th>1</th>\n",
       "      <td>45</td>\n",
       "      <td>M</td>\n",
       "      <td>Ingenieurswesen</td>\n",
       "      <td>verheiratet</td>\n",
       "      <td>ja</td>\n",
       "      <td>76000.0</td>\n",
       "      <td>Bausparvertrag</td>\n",
       "      <td>ja</td>\n",
       "    </tr>\n",
       "    <tr>\n",
       "      <th>2</th>\n",
       "      <td>23</td>\n",
       "      <td>W</td>\n",
       "      <td>Handwerk</td>\n",
       "      <td>ledig</td>\n",
       "      <td>nein</td>\n",
       "      <td>23000.0</td>\n",
       "      <td>Kredit</td>\n",
       "      <td>nein</td>\n",
       "    </tr>\n",
       "    <tr>\n",
       "      <th>3</th>\n",
       "      <td>60</td>\n",
       "      <td>W</td>\n",
       "      <td>Administrativ</td>\n",
       "      <td>verheiratet</td>\n",
       "      <td>ja</td>\n",
       "      <td>57000.0</td>\n",
       "      <td>Kredit</td>\n",
       "      <td>nein</td>\n",
       "    </tr>\n",
       "    <tr>\n",
       "      <th>4</th>\n",
       "      <td>60</td>\n",
       "      <td>M</td>\n",
       "      <td>Informatik</td>\n",
       "      <td>aufgelöste Beziehung</td>\n",
       "      <td>ja</td>\n",
       "      <td>123000.0</td>\n",
       "      <td>Kredit</td>\n",
       "      <td>nein</td>\n",
       "    </tr>\n",
       "  </tbody>\n",
       "</table>\n",
       "</div>"
      ],
      "text/plain": [
       "   Alter Geschlecht                  Job         Familienstand Kinder  \\\n",
       "0     47          M  Öffentlicher Dienst           verheiratet     ja   \n",
       "1     45          M      Ingenieurswesen           verheiratet     ja   \n",
       "2     23          W             Handwerk                 ledig   nein   \n",
       "3     60          W        Administrativ           verheiratet     ja   \n",
       "4     60          M           Informatik  aufgelöste Beziehung     ja   \n",
       "\n",
       "     Gehalt Angebotenes Produkt Gekauft  \n",
       "0   42000.0          Depotkonto    nein  \n",
       "1   76000.0      Bausparvertrag      ja  \n",
       "2   23000.0              Kredit    nein  \n",
       "3   57000.0              Kredit    nein  \n",
       "4  123000.0              Kredit    nein  "
      ]
     },
     "execution_count": 84,
     "metadata": {},
     "output_type": "execute_result"
    }
   ],
   "source": [
    "df.head()"
   ]
  },
  {
   "cell_type": "code",
   "execution_count": 85,
   "metadata": {},
   "outputs": [],
   "source": [
    "pd.options.mode.chained_assignment = None  # default='warn'\n",
    "df[\"Altersgruppe\"] = \">65\"\n",
    "\n",
    "df[\"Altersgruppe\"][df[\"Alter\"] > 65] = \">65\"\n",
    "df[\"Altersgruppe\"][(df[\"Alter\"] >= 50) & (df[\"Alter\"] < 65)] = \"50 - 65\"\n",
    "df[\"Altersgruppe\"][(df[\"Alter\"] >= 30) & (df[\"Alter\"] < 50)] = \"30 - 49\"\n",
    "df[\"Altersgruppe\"][(df[\"Alter\"] >= 18) & (df[\"Alter\"] < 30)] = \"18 - 29\"\n",
    "df[\"Altersgruppe\"][df[\"Alter\"] < 18] = \"<18\""
   ]
  },
  {
   "cell_type": "code",
   "execution_count": 86,
   "metadata": {},
   "outputs": [],
   "source": [
    "df[\"balance_cat\"] = \"> 100000\"\n",
    "\n",
    "df[\"balance_cat\"][df[\"Gehalt\"] > 100000] = \"> 100000\"\n",
    "df[\"balance_cat\"][(df[\"Gehalt\"] >= 80000) & (df[\"Gehalt\"] < 100000)] = \"80000 - 99999\"\n",
    "df[\"balance_cat\"][(df[\"Gehalt\"] >= 60000) & (df[\"Gehalt\"] < 80000)] = \"60000 - 79999\"\n",
    "df[\"balance_cat\"][(df[\"Gehalt\"] >= 40000) & (df[\"Gehalt\"] < 60000)] = \"40000 - 59999\"\n",
    "df[\"balance_cat\"][(df[\"Gehalt\"] >= 20000) & (df[\"Gehalt\"] < 40000)] = \"20000 - 39999\"\n",
    "df[\"balance_cat\"][(df[\"Gehalt\"] >= 0) & (df[\"Gehalt\"] < 20000)] = \"0 - 19999\"\n",
    "df[\"balance_cat\"][df[\"Gehalt\"] < 0] = \"< 0\""
   ]
  },
  {
   "cell_type": "code",
   "execution_count": 87,
   "metadata": {},
   "outputs": [],
   "source": [
    "df[\"Produkt\"] = df[\"Angebotenes Produkt\"]\n",
    "df[\"Produkt\"] = df[\"Produkt\"].replace([\"Girokonto\", \"Kredit\",\"Tagesgeldkonto\",\"Depotkonto\", \"Altersvorsorge\",\"Versicherung\", \"Bausparvertrag\"],[1,2,3,4,5,6,7])\n",
    "df = df.drop([\"Angebotenes Produkt\"], 1)"
   ]
  },
  {
   "cell_type": "code",
   "execution_count": 88,
   "metadata": {},
   "outputs": [],
   "source": [
    "\n",
    "df[\"Job\"] = df[\"Job\"].replace([\"Studium\", \"Öffentlicher Dienst\", \"Rente\", \"Informatik\", \"Handel\", \"Handwerk\", \"Administrativ\", \"Ingenieurswesen\", \"Management\", \"Arbeitslos\"],[0,1,2,3,4,5,6,7,8,9])"
   ]
  },
  {
   "cell_type": "code",
   "execution_count": 89,
   "metadata": {},
   "outputs": [],
   "source": [
    "df[\"Geschlecht\"] = df[\"Geschlecht\"].replace([\"M\", \"W\", \"D\"],[1,2,3])"
   ]
  },
  {
   "cell_type": "code",
   "execution_count": 90,
   "metadata": {},
   "outputs": [],
   "source": [
    "df[\"Familienstand\"] = df[\"Familienstand\"].replace([\"verheiratet\", \"ledig\", \"aufgelöste Beziehung\"],[1,2,3])"
   ]
  },
  {
   "cell_type": "code",
   "execution_count": 91,
   "metadata": {},
   "outputs": [],
   "source": [
    "df[\"Kinder\"] = df[\"Kinder\"].replace([\"ja\", \"nein\"],[1,0])"
   ]
  },
  {
   "cell_type": "code",
   "execution_count": 92,
   "metadata": {},
   "outputs": [],
   "source": [
    "df[\"Altersgruppe\"] = df[\"Altersgruppe\"].replace([\"<18\", \"18 - 29\", \"30 - 49\", \"50 - 65\", \">65\"],[0,1,2,3,4])"
   ]
  },
  {
   "cell_type": "code",
   "execution_count": 93,
   "metadata": {},
   "outputs": [],
   "source": [
    "df[\"balance_cat\"] = df[\"balance_cat\"].replace([\"< 0\", \"0 - 19999\", \"20000 - 39999\", \"40000 - 59999\", \"60000 - 79999\", \"80000 - 99999\", \"> 100000\"],[1,2,3,4,5,6,7])\n",
    "df = df.drop([\"Gehalt\"], axis=1)"
   ]
  },
  {
   "cell_type": "code",
   "execution_count": 94,
   "metadata": {},
   "outputs": [],
   "source": [
    "df = df.drop([\"Alter\"], axis=1)"
   ]
  },
  {
   "cell_type": "code",
   "execution_count": 95,
   "metadata": {},
   "outputs": [],
   "source": [
    "df[\"Gekauft\"] = df[\"Gekauft\"].replace([\"nein\", \"ja\"],[0, 1])"
   ]
  },
  {
   "cell_type": "code",
   "execution_count": 96,
   "metadata": {},
   "outputs": [],
   "source": [
    "labels = np.array(df[\"Gekauft\"])\n",
    "#labels = np.array(df[\"Produkt\"])"
   ]
  },
  {
   "cell_type": "code",
   "execution_count": 97,
   "metadata": {},
   "outputs": [],
   "source": [
    "dfTest = df"
   ]
  },
  {
   "cell_type": "code",
   "execution_count": 98,
   "metadata": {},
   "outputs": [],
   "source": [
    "df = df.drop([\"Gekauft\"], axis=1)\n",
    "#df = df.drop([\"Produkt\"], axis=1)"
   ]
  },
  {
   "cell_type": "code",
   "execution_count": 99,
   "metadata": {},
   "outputs": [],
   "source": [
    "df_list = list(df.columns)"
   ]
  },
  {
   "cell_type": "markdown",
   "metadata": {},
   "source": [
    "## Algorithmen"
   ]
  },
  {
   "cell_type": "markdown",
   "metadata": {},
   "source": [
    "### Trainings- und Testdaten vorbereiten"
   ]
  },
  {
   "cell_type": "code",
   "execution_count": 100,
   "metadata": {},
   "outputs": [],
   "source": [
    "df = np.array(df)"
   ]
  },
  {
   "cell_type": "code",
   "execution_count": 101,
   "metadata": {},
   "outputs": [],
   "source": [
    "train_data, test_data, train_labels, test_labels = train_test_split(df, labels, test_size = 0.25, random_state = 42)"
   ]
  },
  {
   "cell_type": "code",
   "execution_count": 102,
   "metadata": {},
   "outputs": [
    {
     "name": "stdout",
     "output_type": "stream",
     "text": [
      "Training Features Shape: (285519, 7)\n",
      "Training Labels Shape: (285519,)\n",
      "Testing Features Shape: (95173, 7)\n",
      "Testing Labels Shape: (95173,)\n"
     ]
    }
   ],
   "source": [
    "print('Training Features Shape:', train_data.shape)\n",
    "print('Training Labels Shape:', train_labels.shape)\n",
    "print('Testing Features Shape:', test_data.shape)\n",
    "print('Testing Labels Shape:', test_labels.shape)"
   ]
  },
  {
   "cell_type": "markdown",
   "metadata": {},
   "source": [
    "### RANDOM FOREST CLASSIFIER"
   ]
  },
  {
   "cell_type": "code",
   "execution_count": 58,
   "metadata": {},
   "outputs": [],
   "source": [
    "rf = RandomForestClassifier(n_estimators = 1000, random_state = 42)"
   ]
  },
  {
   "cell_type": "code",
   "execution_count": 59,
   "metadata": {},
   "outputs": [],
   "source": [
    "rf.fit(train_data, train_labels);"
   ]
  },
  {
   "cell_type": "code",
   "execution_count": 60,
   "metadata": {},
   "outputs": [],
   "source": [
    "pred_rf = rf.predict(test_data)\n"
   ]
  },
  {
   "cell_type": "code",
   "execution_count": 61,
   "metadata": {},
   "outputs": [],
   "source": [
    "errors_rf = abs(pred_rf - test_labels)\n",
    "errors_rf = [x for x in errors_rf if x != 0]"
   ]
  },
  {
   "cell_type": "code",
   "execution_count": 62,
   "metadata": {},
   "outputs": [
    {
     "name": "stdout",
     "output_type": "stream",
     "text": [
      "Accuracy RF = 0.70636\n"
     ]
    }
   ],
   "source": [
    "print(f\"Accuracy RF = {(len(test_labels)-len(errors_rf))/len(test_labels)}\")"
   ]
  },
  {
   "cell_type": "code",
   "execution_count": 63,
   "metadata": {},
   "outputs": [
    {
     "name": "stdout",
     "output_type": "stream",
     "text": [
      "Precision RF = 0.5376899696048633\n",
      "Recall Rf = 0.23310054025563315\n",
      "F1 Score RF = 0.3252137144958177\n"
     ]
    }
   ],
   "source": [
    "confusion_matrix_rf = sklearn.metrics.confusion_matrix(test_labels, pred_rf)\n",
    "tn_rf, fp_rf, fn_rf, tp_rf = confusion_matrix_rf.ravel()\n",
    "\n",
    "Precision_rf = tp_rf/(tp_rf+fp_rf)\n",
    "Recall_rf = tp_rf/(tp_rf+fn_rf)\n",
    "F1_rf = 2*((Precision_rf*Recall_rf)/(Precision_rf+Recall_rf))\n",
    "\n",
    "print(f\"Precision RF = {Precision_rf}\")\n",
    "print(f\"Recall Rf = {Recall_rf}\")\n",
    "print(f\"F1 Score RF = {F1_rf}\")"
   ]
  },
  {
   "cell_type": "markdown",
   "metadata": {},
   "source": [
    "### K NEAREST NEIGHBORS"
   ]
  },
  {
   "cell_type": "code",
   "execution_count": 64,
   "metadata": {},
   "outputs": [],
   "source": [
    "classifier = KNeighborsClassifier(n_neighbors=7)"
   ]
  },
  {
   "cell_type": "code",
   "execution_count": 65,
   "metadata": {},
   "outputs": [
    {
     "data": {
      "text/plain": [
       "KNeighborsClassifier(n_neighbors=7)"
      ]
     },
     "execution_count": 65,
     "metadata": {},
     "output_type": "execute_result"
    }
   ],
   "source": [
    "classifier.fit(train_data, train_labels)"
   ]
  },
  {
   "cell_type": "code",
   "execution_count": 66,
   "metadata": {},
   "outputs": [],
   "source": [
    "pred_knn = classifier.predict(test_data)"
   ]
  },
  {
   "cell_type": "code",
   "execution_count": 67,
   "metadata": {},
   "outputs": [],
   "source": [
    "errors_knn = abs(pred_knn - test_labels)\n",
    "errors_knn = [x for x in errors_knn if x != 0]"
   ]
  },
  {
   "cell_type": "code",
   "execution_count": 68,
   "metadata": {},
   "outputs": [
    {
     "name": "stdout",
     "output_type": "stream",
     "text": [
      "Accuracy KNN = 0.68296\n"
     ]
    }
   ],
   "source": [
    "print(f\"Accuracy KNN = {(len(test_labels)-len(errors_knn))/len(test_labels)}\")"
   ]
  },
  {
   "cell_type": "code",
   "execution_count": 69,
   "metadata": {},
   "outputs": [
    {
     "name": "stdout",
     "output_type": "stream",
     "text": [
      "Precision KNN = 0.4654500717654296\n",
      "Recall KNN = 0.2991171432336276\n",
      "F1 Score KNN = 0.36419059842772333\n"
     ]
    }
   ],
   "source": [
    "confusion_matrix_knn = sklearn.metrics.confusion_matrix(test_labels, pred_knn)\n",
    "tn_knn, fp_knn, fn_knn, tp_knn = confusion_matrix_knn.ravel()\n",
    "\n",
    "Precision_knn = tp_knn/(tp_knn+fp_knn)\n",
    "Recall_knn = tp_knn/(tp_knn+fn_knn)\n",
    "F1_knn = 2*((Precision_knn*Recall_knn)/(Precision_knn+Recall_knn))\n",
    "\n",
    "print(f\"Precision KNN = {Precision_knn}\")\n",
    "print(f\"Recall KNN = {Recall_knn}\")\n",
    "print(f\"F1 Score KNN = {F1_knn}\")\n"
   ]
  },
  {
   "cell_type": "markdown",
   "metadata": {},
   "source": [
    "### XGBoost Classifier"
   ]
  },
  {
   "cell_type": "code",
   "execution_count": 103,
   "metadata": {},
   "outputs": [],
   "source": [
    "model = XGBClassifier()"
   ]
  },
  {
   "cell_type": "code",
   "execution_count": 104,
   "metadata": {},
   "outputs": [
    {
     "data": {
      "text/plain": [
       "XGBClassifier(base_score=0.5, booster='gbtree', colsample_bylevel=1,\n",
       "              colsample_bynode=1, colsample_bytree=1, gamma=0, gpu_id=-1,\n",
       "              importance_type='gain', interaction_constraints='',\n",
       "              learning_rate=0.300000012, max_delta_step=0, max_depth=6,\n",
       "              min_child_weight=1, missing=nan, monotone_constraints='()',\n",
       "              n_estimators=100, n_jobs=0, num_parallel_tree=1, random_state=0,\n",
       "              reg_alpha=0, reg_lambda=1, scale_pos_weight=1, subsample=1,\n",
       "              tree_method='exact', validate_parameters=1, verbosity=None)"
      ]
     },
     "execution_count": 104,
     "metadata": {},
     "output_type": "execute_result"
    }
   ],
   "source": [
    "model.fit(train_data, train_labels)"
   ]
  },
  {
   "cell_type": "code",
   "execution_count": 105,
   "metadata": {},
   "outputs": [],
   "source": [
    "pred_xgb = model.predict(test_data)"
   ]
  },
  {
   "cell_type": "code",
   "execution_count": 106,
   "metadata": {},
   "outputs": [],
   "source": [
    "errors_xgb = abs(pred_xgb - test_labels)\n",
    "errors_xgb = [x for x in errors_xgb if x != 0]"
   ]
  },
  {
   "cell_type": "code",
   "execution_count": 107,
   "metadata": {},
   "outputs": [
    {
     "name": "stdout",
     "output_type": "stream",
     "text": [
      "Accuracy XGB = 0.7209607766908682\n"
     ]
    }
   ],
   "source": [
    "print(f\"Accuracy XGB = {(len(test_labels)-len(errors_xgb))/len(test_labels)}\")"
   ]
  },
  {
   "cell_type": "code",
   "execution_count": 108,
   "metadata": {},
   "outputs": [
    {
     "name": "stdout",
     "output_type": "stream",
     "text": [
      "Precision xgb = 0.5953931383030421\n",
      "Recall xgb = 0.21479663394109397\n",
      "F1 Score xgb = 0.3156999665026154\n"
     ]
    }
   ],
   "source": [
    "confusion_matrix_xgb = sklearn.metrics.confusion_matrix(test_labels, pred_xgb)\n",
    "tn_xgb, fp_xgb, fn_xgb, tp_xgb = confusion_matrix_xgb.ravel()\n",
    "\n",
    "Precision_xgb = tp_xgb/(tp_xgb+fp_xgb)\n",
    "Recall_xgb = tp_xgb/(tp_xgb+fn_xgb)\n",
    "F1_xgb = 2*((Precision_xgb*Recall_xgb)/(Precision_xgb+Recall_xgb))\n",
    "\n",
    "print(f\"Precision xgb = {Precision_xgb}\")\n",
    "print(f\"Recall xgb = {Recall_xgb}\")\n",
    "print(f\"F1 Score xgb = {F1_xgb}\")\n"
   ]
  },
  {
   "cell_type": "markdown",
   "metadata": {},
   "source": [
    "## Funktion für Applikation"
   ]
  },
  {
   "cell_type": "code",
   "execution_count": 76,
   "metadata": {},
   "outputs": [
    {
     "name": "stdout",
     "output_type": "stream",
     "text": [
      "[[0.60975397 0.39024603]]\n",
      "[[0.88520294 0.11479708]]\n",
      "[[0.9072776  0.09272243]]\n",
      "[[0.82347625 0.17652376]]\n",
      "[[0.8876212 0.1123788]]\n",
      "[[0.91863555 0.08136448]]\n",
      "[[0.90118986 0.09881011]]\n"
     ]
    }
   ],
   "source": [
    "for x in range(1,8):\n",
    "     print(model.predict_proba(np.array([[2,0,2,0,1,2,x]])).reshape((1,-1)))\n",
    "        \n",
    "        \n",
    "def vorschlag(kunde):\n",
    "    kunde = np.array(kunde).reshape((1,-1))\n",
    "    \n",
    "    kunde[0][6] = 1\n",
    "    prob1 = model.predict_proba(kunde)[0][1]\n",
    "    \n",
    "    kunde[0][6] = 2\n",
    "    prob2 = model.predict_proba(kunde)[0][1]\n",
    "    \n",
    "    kunde[0][6] = 3\n",
    "    prob3 = model.predict_proba(kunde)[0][1]\n",
    "    \n",
    "    kunde[0][6] = 4\n",
    "    prob4 = model.predict_proba(kunde)[0][1]\n",
    "    \n",
    "    kunde[0][6] = 5\n",
    "    prob5 = model.predict_proba(kunde)[0][1]\n",
    "    \n",
    "    kunde[0][6] = 6\n",
    "    prob6 = model.predict_proba(kunde)[0][1]\n",
    "    \n",
    "    kunde[0][6] = 7\n",
    "    prob7 = model.predict_proba(kunde)[0][1]\n",
    "    \n",
    "    produkt = {\"Girokonto\":prob1,\"Kredit\":prob2, \"Tagesgeldkonto\":prob3, \"Depotkonto\":prob4, \"Altersvorsorge\":prob5, \"Versicherung\":prob6, \"Bausparvertrag\":prob7}\n",
    "    \n",
    "    print(f\"Top 3 Produktvorschläge:\")\n",
    "    print(f\"1. {sorted(produkt, key=produkt.get, reverse=True)[:3][0]} mit {round((produkt.get(sorted(produkt, key=produkt.get, reverse=True)[:3][0])*100),2)}% Erfolgschance\")\n",
    "    print(f\"2. {sorted(produkt, key=produkt.get, reverse=True)[:3][1]} mit {round((produkt.get(sorted(produkt, key=produkt.get, reverse=True)[:3][1])*100),2)}% Erfolgschance\")\n",
    "    print(f\"3. {sorted(produkt, key=produkt.get, reverse=True)[:3][2]} mit {round((produkt.get(sorted(produkt, key=produkt.get, reverse=True)[:3][2])*100),2)}% Erfolgschance\")\n",
    "    "
   ]
  },
  {
   "cell_type": "code",
   "execution_count": 77,
   "metadata": {},
   "outputs": [
    {
     "name": "stdout",
     "output_type": "stream",
     "text": [
      "Top 3 Produktvorschläge:\n",
      "1. Girokonto mit 39.02% Erfolgschance\n",
      "2. Depotkonto mit 17.65% Erfolgschance\n",
      "3. Kredit mit 11.48% Erfolgschance\n"
     ]
    }
   ],
   "source": [
    "vorschlag(np.array([[2,0,2,0,1,2,x]]).reshape((1,-1)))\n"
   ]
  },
  {
   "cell_type": "code",
   "execution_count": 78,
   "metadata": {},
   "outputs": [],
   "source": [
    "filename = 'jungbank_xgb.sav'\n",
    "pickle.dump(model, open(filename, 'wb'))"
   ]
  },
  {
   "cell_type": "code",
   "execution_count": 79,
   "metadata": {},
   "outputs": [
    {
     "data": {
      "text/html": [
       "<div>\n",
       "<style scoped>\n",
       "    .dataframe tbody tr th:only-of-type {\n",
       "        vertical-align: middle;\n",
       "    }\n",
       "\n",
       "    .dataframe tbody tr th {\n",
       "        vertical-align: top;\n",
       "    }\n",
       "\n",
       "    .dataframe thead th {\n",
       "        text-align: right;\n",
       "    }\n",
       "</style>\n",
       "<table border=\"1\" class=\"dataframe\">\n",
       "  <thead>\n",
       "    <tr style=\"text-align: right;\">\n",
       "      <th></th>\n",
       "      <th>Geschlecht</th>\n",
       "      <th>Job</th>\n",
       "      <th>Familienstand</th>\n",
       "      <th>Kinder</th>\n",
       "      <th>Gekauft</th>\n",
       "      <th>Altersgruppe</th>\n",
       "      <th>balance_cat</th>\n",
       "      <th>Produkt</th>\n",
       "    </tr>\n",
       "  </thead>\n",
       "  <tbody>\n",
       "    <tr>\n",
       "      <th>0</th>\n",
       "      <td>1</td>\n",
       "      <td>1</td>\n",
       "      <td>1</td>\n",
       "      <td>1</td>\n",
       "      <td>0</td>\n",
       "      <td>2</td>\n",
       "      <td>4</td>\n",
       "      <td>4</td>\n",
       "    </tr>\n",
       "    <tr>\n",
       "      <th>1</th>\n",
       "      <td>1</td>\n",
       "      <td>7</td>\n",
       "      <td>1</td>\n",
       "      <td>1</td>\n",
       "      <td>1</td>\n",
       "      <td>2</td>\n",
       "      <td>5</td>\n",
       "      <td>7</td>\n",
       "    </tr>\n",
       "    <tr>\n",
       "      <th>2</th>\n",
       "      <td>2</td>\n",
       "      <td>5</td>\n",
       "      <td>2</td>\n",
       "      <td>0</td>\n",
       "      <td>0</td>\n",
       "      <td>1</td>\n",
       "      <td>3</td>\n",
       "      <td>2</td>\n",
       "    </tr>\n",
       "    <tr>\n",
       "      <th>3</th>\n",
       "      <td>2</td>\n",
       "      <td>6</td>\n",
       "      <td>1</td>\n",
       "      <td>1</td>\n",
       "      <td>0</td>\n",
       "      <td>3</td>\n",
       "      <td>4</td>\n",
       "      <td>2</td>\n",
       "    </tr>\n",
       "    <tr>\n",
       "      <th>4</th>\n",
       "      <td>1</td>\n",
       "      <td>3</td>\n",
       "      <td>3</td>\n",
       "      <td>1</td>\n",
       "      <td>0</td>\n",
       "      <td>3</td>\n",
       "      <td>7</td>\n",
       "      <td>2</td>\n",
       "    </tr>\n",
       "  </tbody>\n",
       "</table>\n",
       "</div>"
      ],
      "text/plain": [
       "   Geschlecht  Job  Familienstand  Kinder  Gekauft  Altersgruppe  balance_cat  \\\n",
       "0           1    1              1       1        0             2            4   \n",
       "1           1    7              1       1        1             2            5   \n",
       "2           2    5              2       0        0             1            3   \n",
       "3           2    6              1       1        0             3            4   \n",
       "4           1    3              3       1        0             3            7   \n",
       "\n",
       "   Produkt  \n",
       "0        4  \n",
       "1        7  \n",
       "2        2  \n",
       "3        2  \n",
       "4        2  "
      ]
     },
     "execution_count": 79,
     "metadata": {},
     "output_type": "execute_result"
    }
   ],
   "source": [
    "dfTest.head()"
   ]
  },
  {
   "cell_type": "code",
   "execution_count": null,
   "metadata": {},
   "outputs": [],
   "source": []
  },
  {
   "cell_type": "code",
   "execution_count": null,
   "metadata": {},
   "outputs": [],
   "source": []
  }
 ],
 "metadata": {
  "kernelspec": {
   "display_name": "python3.8.3",
   "language": "python",
   "name": "python3.8.3"
  },
  "language_info": {
   "codemirror_mode": {
    "name": "ipython",
    "version": 3
   },
   "file_extension": ".py",
   "mimetype": "text/x-python",
   "name": "python",
   "nbconvert_exporter": "python",
   "pygments_lexer": "ipython3",
   "version": "3.8.3"
  }
 },
 "nbformat": 4,
 "nbformat_minor": 4
}
