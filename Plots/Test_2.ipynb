{
 "cells": [
  {
   "cell_type": "code",
   "execution_count": 1,
   "metadata": {},
   "outputs": [],
   "source": [
    "import dash_core_components as dcc\n",
    "import dash_html_components as html\n",
    "from dash.dependencies import Input, Output\n",
    "import plotly.express as px\n",
    "import pandas as pd\n",
    "import numpy as np\n",
    "from datetime import datetime\n",
    "import dask.dataframe as dd\n",
    "import dask.array as da"
   ]
  },
  {
   "cell_type": "code",
   "execution_count": 2,
   "metadata": {},
   "outputs": [
    {
     "data": {
      "text/html": [
       "<div>\n",
       "<style scoped>\n",
       "    .dataframe tbody tr th:only-of-type {\n",
       "        vertical-align: middle;\n",
       "    }\n",
       "\n",
       "    .dataframe tbody tr th {\n",
       "        vertical-align: top;\n",
       "    }\n",
       "\n",
       "    .dataframe thead th {\n",
       "        text-align: right;\n",
       "    }\n",
       "</style>\n",
       "<table border=\"1\" class=\"dataframe\">\n",
       "  <thead>\n",
       "    <tr style=\"text-align: right;\">\n",
       "      <th></th>\n",
       "      <th>Alter</th>\n",
       "      <th>Geschlecht</th>\n",
       "      <th>Job</th>\n",
       "      <th>Familienstand</th>\n",
       "      <th>Kinder</th>\n",
       "      <th>Gehalt</th>\n",
       "      <th>Angebotenes Produkt</th>\n",
       "      <th>Gekauft</th>\n",
       "      <th>Gewinn</th>\n",
       "      <th>Jahr</th>\n",
       "      <th>Monat</th>\n",
       "      <th>Tag</th>\n",
       "      <th>Datum</th>\n",
       "      <th>Anzahl</th>\n",
       "      <th>Monats-Datum</th>\n",
       "    </tr>\n",
       "    <tr>\n",
       "      <th>index</th>\n",
       "      <th></th>\n",
       "      <th></th>\n",
       "      <th></th>\n",
       "      <th></th>\n",
       "      <th></th>\n",
       "      <th></th>\n",
       "      <th></th>\n",
       "      <th></th>\n",
       "      <th></th>\n",
       "      <th></th>\n",
       "      <th></th>\n",
       "      <th></th>\n",
       "      <th></th>\n",
       "      <th></th>\n",
       "      <th></th>\n",
       "    </tr>\n",
       "  </thead>\n",
       "  <tbody>\n",
       "    <tr>\n",
       "      <th>0</th>\n",
       "      <td>35</td>\n",
       "      <td>W</td>\n",
       "      <td>Management</td>\n",
       "      <td>verheiratet</td>\n",
       "      <td>ja</td>\n",
       "      <td>89000.0</td>\n",
       "      <td>Bausparvertrag</td>\n",
       "      <td>nein</td>\n",
       "      <td>0.00</td>\n",
       "      <td>2018</td>\n",
       "      <td>1</td>\n",
       "      <td>7</td>\n",
       "      <td>2018-01-07</td>\n",
       "      <td>0</td>\n",
       "      <td>2018-01</td>\n",
       "    </tr>\n",
       "    <tr>\n",
       "      <th>1</th>\n",
       "      <td>40</td>\n",
       "      <td>M</td>\n",
       "      <td>Handwerk</td>\n",
       "      <td>verheiratet</td>\n",
       "      <td>nein</td>\n",
       "      <td>37000.0</td>\n",
       "      <td>Kredit</td>\n",
       "      <td>ja</td>\n",
       "      <td>0.35</td>\n",
       "      <td>2018</td>\n",
       "      <td>1</td>\n",
       "      <td>2</td>\n",
       "      <td>2018-01-02</td>\n",
       "      <td>1</td>\n",
       "      <td>2018-01</td>\n",
       "    </tr>\n",
       "    <tr>\n",
       "      <th>2</th>\n",
       "      <td>41</td>\n",
       "      <td>M</td>\n",
       "      <td>Administrativ</td>\n",
       "      <td>verheiratet</td>\n",
       "      <td>nein</td>\n",
       "      <td>43000.0</td>\n",
       "      <td>Kredit</td>\n",
       "      <td>ja</td>\n",
       "      <td>0.35</td>\n",
       "      <td>2018</td>\n",
       "      <td>1</td>\n",
       "      <td>16</td>\n",
       "      <td>2018-01-16</td>\n",
       "      <td>1</td>\n",
       "      <td>2018-01</td>\n",
       "    </tr>\n",
       "    <tr>\n",
       "      <th>3</th>\n",
       "      <td>20</td>\n",
       "      <td>M</td>\n",
       "      <td>Informatik</td>\n",
       "      <td>ledig</td>\n",
       "      <td>nein</td>\n",
       "      <td>45000.0</td>\n",
       "      <td>Kredit</td>\n",
       "      <td>ja</td>\n",
       "      <td>0.35</td>\n",
       "      <td>2018</td>\n",
       "      <td>1</td>\n",
       "      <td>3</td>\n",
       "      <td>2018-01-03</td>\n",
       "      <td>1</td>\n",
       "      <td>2018-01</td>\n",
       "    </tr>\n",
       "    <tr>\n",
       "      <th>4</th>\n",
       "      <td>20</td>\n",
       "      <td>M</td>\n",
       "      <td>Handwerk</td>\n",
       "      <td>ledig</td>\n",
       "      <td>nein</td>\n",
       "      <td>16000.0</td>\n",
       "      <td>Kredit</td>\n",
       "      <td>nein</td>\n",
       "      <td>0.00</td>\n",
       "      <td>2018</td>\n",
       "      <td>1</td>\n",
       "      <td>7</td>\n",
       "      <td>2018-01-07</td>\n",
       "      <td>0</td>\n",
       "      <td>2018-01</td>\n",
       "    </tr>\n",
       "  </tbody>\n",
       "</table>\n",
       "</div>"
      ],
      "text/plain": [
       "       Alter Geschlecht            Job Familienstand Kinder   Gehalt  \\\n",
       "index                                                                  \n",
       "0         35          W     Management   verheiratet     ja  89000.0   \n",
       "1         40          M       Handwerk   verheiratet   nein  37000.0   \n",
       "2         41          M  Administrativ   verheiratet   nein  43000.0   \n",
       "3         20          M     Informatik         ledig   nein  45000.0   \n",
       "4         20          M       Handwerk         ledig   nein  16000.0   \n",
       "\n",
       "      Angebotenes Produkt Gekauft  Gewinn  Jahr  Monat  Tag       Datum  \\\n",
       "index                                                                     \n",
       "0          Bausparvertrag    nein    0.00  2018      1    7  2018-01-07   \n",
       "1                  Kredit      ja    0.35  2018      1    2  2018-01-02   \n",
       "2                  Kredit      ja    0.35  2018      1   16  2018-01-16   \n",
       "3                  Kredit      ja    0.35  2018      1    3  2018-01-03   \n",
       "4                  Kredit    nein    0.00  2018      1    7  2018-01-07   \n",
       "\n",
       "       Anzahl Monats-Datum  \n",
       "index                       \n",
       "0           0      2018-01  \n",
       "1           1      2018-01  \n",
       "2           1      2018-01  \n",
       "3           1      2018-01  \n",
       "4           0      2018-01  "
      ]
     },
     "execution_count": 2,
     "metadata": {},
     "output_type": "execute_result"
    }
   ],
   "source": [
    "df = dd.read_sql_table(\"testdaten\", 'sqlite:///Kundendaten.db', \"index\")\n",
    "df[\"Monats-Datum\"] = df['Datum'].astype(str).str[:7]\n",
    "df.head()"
   ]
  },
  {
   "cell_type": "code",
   "execution_count": 4,
   "metadata": {},
   "outputs": [
    {
     "data": {
      "text/html": [
       "<div>\n",
       "<style scoped>\n",
       "    .dataframe tbody tr th:only-of-type {\n",
       "        vertical-align: middle;\n",
       "    }\n",
       "\n",
       "    .dataframe tbody tr th {\n",
       "        vertical-align: top;\n",
       "    }\n",
       "\n",
       "    .dataframe thead th {\n",
       "        text-align: right;\n",
       "    }\n",
       "</style>\n",
       "<table border=\"1\" class=\"dataframe\">\n",
       "  <thead>\n",
       "    <tr style=\"text-align: right;\">\n",
       "      <th></th>\n",
       "      <th>Alter</th>\n",
       "      <th>Geschlecht</th>\n",
       "      <th>Job</th>\n",
       "      <th>Familienstand</th>\n",
       "      <th>Kinder</th>\n",
       "      <th>Gehalt</th>\n",
       "      <th>Angebotenes Produkt</th>\n",
       "      <th>Gekauft</th>\n",
       "      <th>Gewinn</th>\n",
       "      <th>Jahr</th>\n",
       "      <th>Monat</th>\n",
       "      <th>Tag</th>\n",
       "      <th>Datum</th>\n",
       "      <th>Anzahl</th>\n",
       "      <th>Monats-Datum</th>\n",
       "      <th>Altersklassen</th>\n",
       "      <th>Gehaltsklassen</th>\n",
       "    </tr>\n",
       "    <tr>\n",
       "      <th>index</th>\n",
       "      <th></th>\n",
       "      <th></th>\n",
       "      <th></th>\n",
       "      <th></th>\n",
       "      <th></th>\n",
       "      <th></th>\n",
       "      <th></th>\n",
       "      <th></th>\n",
       "      <th></th>\n",
       "      <th></th>\n",
       "      <th></th>\n",
       "      <th></th>\n",
       "      <th></th>\n",
       "      <th></th>\n",
       "      <th></th>\n",
       "      <th></th>\n",
       "      <th></th>\n",
       "    </tr>\n",
       "  </thead>\n",
       "  <tbody>\n",
       "    <tr>\n",
       "      <th>0</th>\n",
       "      <td>35</td>\n",
       "      <td>W</td>\n",
       "      <td>Management</td>\n",
       "      <td>verheiratet</td>\n",
       "      <td>ja</td>\n",
       "      <td>89000.0</td>\n",
       "      <td>Bausparvertrag</td>\n",
       "      <td>nein</td>\n",
       "      <td>0.00</td>\n",
       "      <td>2018</td>\n",
       "      <td>1</td>\n",
       "      <td>7</td>\n",
       "      <td>2018-01-07</td>\n",
       "      <td>0</td>\n",
       "      <td>2018-01</td>\n",
       "      <td>Junge Erwachsene (30-45)</td>\n",
       "      <td>Hoch (80.000-100.000)</td>\n",
       "    </tr>\n",
       "    <tr>\n",
       "      <th>1</th>\n",
       "      <td>40</td>\n",
       "      <td>M</td>\n",
       "      <td>Handwerk</td>\n",
       "      <td>verheiratet</td>\n",
       "      <td>nein</td>\n",
       "      <td>37000.0</td>\n",
       "      <td>Kredit</td>\n",
       "      <td>ja</td>\n",
       "      <td>0.35</td>\n",
       "      <td>2018</td>\n",
       "      <td>1</td>\n",
       "      <td>2</td>\n",
       "      <td>2018-01-02</td>\n",
       "      <td>1</td>\n",
       "      <td>2018-01</td>\n",
       "      <td>Junge Erwachsene (30-45)</td>\n",
       "      <td>Untere Mitte (30.000-50.000)</td>\n",
       "    </tr>\n",
       "    <tr>\n",
       "      <th>2</th>\n",
       "      <td>41</td>\n",
       "      <td>M</td>\n",
       "      <td>Administrativ</td>\n",
       "      <td>verheiratet</td>\n",
       "      <td>nein</td>\n",
       "      <td>43000.0</td>\n",
       "      <td>Kredit</td>\n",
       "      <td>ja</td>\n",
       "      <td>0.35</td>\n",
       "      <td>2018</td>\n",
       "      <td>1</td>\n",
       "      <td>16</td>\n",
       "      <td>2018-01-16</td>\n",
       "      <td>1</td>\n",
       "      <td>2018-01</td>\n",
       "      <td>Junge Erwachsene (30-45)</td>\n",
       "      <td>Untere Mitte (30.000-50.000)</td>\n",
       "    </tr>\n",
       "    <tr>\n",
       "      <th>3</th>\n",
       "      <td>20</td>\n",
       "      <td>M</td>\n",
       "      <td>Informatik</td>\n",
       "      <td>ledig</td>\n",
       "      <td>nein</td>\n",
       "      <td>45000.0</td>\n",
       "      <td>Kredit</td>\n",
       "      <td>ja</td>\n",
       "      <td>0.35</td>\n",
       "      <td>2018</td>\n",
       "      <td>1</td>\n",
       "      <td>3</td>\n",
       "      <td>2018-01-03</td>\n",
       "      <td>1</td>\n",
       "      <td>2018-01</td>\n",
       "      <td>Jung (18-29)</td>\n",
       "      <td>Untere Mitte (30.000-50.000)</td>\n",
       "    </tr>\n",
       "    <tr>\n",
       "      <th>4</th>\n",
       "      <td>20</td>\n",
       "      <td>M</td>\n",
       "      <td>Handwerk</td>\n",
       "      <td>ledig</td>\n",
       "      <td>nein</td>\n",
       "      <td>16000.0</td>\n",
       "      <td>Kredit</td>\n",
       "      <td>nein</td>\n",
       "      <td>0.00</td>\n",
       "      <td>2018</td>\n",
       "      <td>1</td>\n",
       "      <td>7</td>\n",
       "      <td>2018-01-07</td>\n",
       "      <td>0</td>\n",
       "      <td>2018-01</td>\n",
       "      <td>Jung (18-29)</td>\n",
       "      <td>niedrig (15.000-30.000)</td>\n",
       "    </tr>\n",
       "  </tbody>\n",
       "</table>\n",
       "</div>"
      ],
      "text/plain": [
       "       Alter Geschlecht            Job Familienstand Kinder   Gehalt  \\\n",
       "index                                                                  \n",
       "0         35          W     Management   verheiratet     ja  89000.0   \n",
       "1         40          M       Handwerk   verheiratet   nein  37000.0   \n",
       "2         41          M  Administrativ   verheiratet   nein  43000.0   \n",
       "3         20          M     Informatik         ledig   nein  45000.0   \n",
       "4         20          M       Handwerk         ledig   nein  16000.0   \n",
       "\n",
       "      Angebotenes Produkt Gekauft  Gewinn  Jahr  Monat  Tag       Datum  \\\n",
       "index                                                                     \n",
       "0          Bausparvertrag    nein    0.00  2018      1    7  2018-01-07   \n",
       "1                  Kredit      ja    0.35  2018      1    2  2018-01-02   \n",
       "2                  Kredit      ja    0.35  2018      1   16  2018-01-16   \n",
       "3                  Kredit      ja    0.35  2018      1    3  2018-01-03   \n",
       "4                  Kredit    nein    0.00  2018      1    7  2018-01-07   \n",
       "\n",
       "       Anzahl Monats-Datum             Altersklassen  \\\n",
       "index                                                  \n",
       "0           0      2018-01  Junge Erwachsene (30-45)   \n",
       "1           1      2018-01  Junge Erwachsene (30-45)   \n",
       "2           1      2018-01  Junge Erwachsene (30-45)   \n",
       "3           1      2018-01              Jung (18-29)   \n",
       "4           0      2018-01              Jung (18-29)   \n",
       "\n",
       "                     Gehaltsklassen  \n",
       "index                                \n",
       "0             Hoch (80.000-100.000)  \n",
       "1      Untere Mitte (30.000-50.000)  \n",
       "2      Untere Mitte (30.000-50.000)  \n",
       "3      Untere Mitte (30.000-50.000)  \n",
       "4           niedrig (15.000-30.000)  "
      ]
     },
     "execution_count": 4,
     "metadata": {},
     "output_type": "execute_result"
    }
   ],
   "source": [
    "def Altersklassen(A):\n",
    "    if A < 30:\n",
    "        return 'Jung (18-29)'\n",
    "    elif A <46:\n",
    "        return 'Junge Erwachsene (30-45)'\n",
    "    elif A<66:\n",
    "        return \"Alte Erwachsene (46-65)\"\n",
    "    else:\n",
    "        return \"Greise (66+)\"\n",
    "\n",
    "df['Altersklassen'] = df['Alter'].map(Altersklassen)\n",
    "\n",
    "def Gehaltsklassen(A):\n",
    "    if A < 15000:\n",
    "        return 'Sehr niedrig (<15.000)'\n",
    "    elif A <30000:\n",
    "        return 'niedrig (15.000-30.000)'\n",
    "    elif A<50000:\n",
    "        return \"Untere Mitte (30.000-50.000)\"\n",
    "    elif A<80000:\n",
    "        return \"Obere Mitte (50.000-80.000)\"\n",
    "    elif A<100000:\n",
    "        return \"Hoch (80.000-100.000)\"\n",
    "    else:\n",
    "        return \"Sehr hoch (>100.000)\"\n",
    "\n",
    "df['Gehaltsklassen'] = df['Gehalt'].map(Gehaltsklassen)\n",
    "\n",
    "df.head()"
   ]
  },
  {
   "cell_type": "code",
   "execution_count": 7,
   "metadata": {},
   "outputs": [
    {
     "data": {
      "text/html": [
       "<div>\n",
       "<style scoped>\n",
       "    .dataframe tbody tr th:only-of-type {\n",
       "        vertical-align: middle;\n",
       "    }\n",
       "\n",
       "    .dataframe tbody tr th {\n",
       "        vertical-align: top;\n",
       "    }\n",
       "\n",
       "    .dataframe thead th {\n",
       "        text-align: right;\n",
       "    }\n",
       "</style>\n",
       "<table border=\"1\" class=\"dataframe\">\n",
       "  <thead>\n",
       "    <tr style=\"text-align: right;\">\n",
       "      <th></th>\n",
       "      <th>Monats-Datum</th>\n",
       "      <th>Angebotenes Produkt</th>\n",
       "      <th>Gewinn</th>\n",
       "    </tr>\n",
       "  </thead>\n",
       "  <tbody>\n",
       "    <tr>\n",
       "      <th>0</th>\n",
       "      <td>2018-01</td>\n",
       "      <td>Altersvorsorge</td>\n",
       "      <td>515.35</td>\n",
       "    </tr>\n",
       "    <tr>\n",
       "      <th>1</th>\n",
       "      <td>2018-01</td>\n",
       "      <td>Bausparvertrag</td>\n",
       "      <td>704.73</td>\n",
       "    </tr>\n",
       "    <tr>\n",
       "      <th>2</th>\n",
       "      <td>2018-01</td>\n",
       "      <td>Depotkonto</td>\n",
       "      <td>363.48</td>\n",
       "    </tr>\n",
       "    <tr>\n",
       "      <th>3</th>\n",
       "      <td>2018-01</td>\n",
       "      <td>Girokonto</td>\n",
       "      <td>307.60</td>\n",
       "    </tr>\n",
       "    <tr>\n",
       "      <th>4</th>\n",
       "      <td>2018-01</td>\n",
       "      <td>Kredit</td>\n",
       "      <td>912.45</td>\n",
       "    </tr>\n",
       "  </tbody>\n",
       "</table>\n",
       "</div>"
      ],
      "text/plain": [
       "  Monats-Datum Angebotenes Produkt  Gewinn\n",
       "0      2018-01      Altersvorsorge  515.35\n",
       "1      2018-01      Bausparvertrag  704.73\n",
       "2      2018-01          Depotkonto  363.48\n",
       "3      2018-01           Girokonto  307.60\n",
       "4      2018-01              Kredit  912.45"
      ]
     },
     "execution_count": 7,
     "metadata": {},
     "output_type": "execute_result"
    }
   ],
   "source": [
    "df_Gewinn_pro_Monat=df.groupby([\"Monats-Datum\", \"Angebotenes Produkt\"])[\"Gewinn\"].sum().reset_index()\n",
    "df_Gewinn_pro_Monat.head()"
   ]
  },
  {
   "cell_type": "code",
   "execution_count": 13,
   "metadata": {},
   "outputs": [
    {
     "data": {
      "application/vnd.plotly.v1+json": {
       "config": {
        "plotlyServerURL": "https://plot.ly"
       },
       "data": [
        {
         "hovertemplate": "color=Altersvorsorge<br>x=%{x}<br>y=%{y}<extra></extra>",
         "legendgroup": "Altersvorsorge",
         "line": {
          "color": "#636efa",
          "dash": "solid"
         },
         "mode": "lines",
         "name": "Altersvorsorge",
         "orientation": "v",
         "showlegend": true,
         "type": "scatter",
         "x": [
          "2018-01",
          "2018-02",
          "2018-03",
          "2018-04",
          "2018-05",
          "2018-06",
          "2018-07",
          "2018-08",
          "2018-09",
          "2018-10",
          "2018-11",
          "2018-12",
          "2019-01",
          "2019-02",
          "2019-03",
          "2019-04",
          "2019-05",
          "2019-06",
          "2019-07",
          "2019-08",
          "2019-09",
          "2019-10",
          "2019-11",
          "2019-12",
          "2020-01",
          "2020-02",
          "2020-03",
          "2020-04",
          "2020-05",
          "2020-06",
          "2020-07",
          "2020-08",
          "2020-09",
          "2020-10",
          "2020-11",
          "2020-12"
         ],
         "xaxis": "x",
         "y": [
          515.3500000000001,
          384.17000000000013,
          449.76000000000016,
          543.4600000000002,
          505.9800000000002,
          393.54000000000013,
          402.91000000000014,
          431.02000000000015,
          459.13000000000017,
          374.8000000000001,
          552.8300000000002,
          515.3500000000001,
          337.3200000000001,
          524.7200000000001,
          552.8300000000002,
          534.0900000000001,
          412.28000000000014,
          599.6800000000002,
          412.28000000000014,
          609.0500000000002,
          552.8300000000002,
          590.3100000000002,
          468.50000000000017,
          487.2400000000002,
          534.0900000000001,
          477.8700000000002,
          543.4600000000002,
          580.9400000000002,
          505.9800000000002,
          459.13000000000017,
          477.8700000000002,
          468.50000000000017,
          515.3500000000001,
          580.9400000000002,
          609.0500000000002,
          543.4600000000002
         ],
         "yaxis": "y"
        },
        {
         "hovertemplate": "color=Bausparvertrag<br>x=%{x}<br>y=%{y}<extra></extra>",
         "legendgroup": "Bausparvertrag",
         "line": {
          "color": "#EF553B",
          "dash": "solid"
         },
         "mode": "lines",
         "name": "Bausparvertrag",
         "orientation": "v",
         "showlegend": true,
         "type": "scatter",
         "x": [
          "2018-01",
          "2018-02",
          "2018-03",
          "2018-04",
          "2018-05",
          "2018-06",
          "2018-07",
          "2018-08",
          "2018-09",
          "2018-10",
          "2018-11",
          "2018-12",
          "2019-01",
          "2019-02",
          "2019-03",
          "2019-04",
          "2019-05",
          "2019-06",
          "2019-07",
          "2019-08",
          "2019-09",
          "2019-10",
          "2019-11",
          "2019-12",
          "2020-01",
          "2020-02",
          "2020-03",
          "2020-04",
          "2020-05",
          "2020-06",
          "2020-07",
          "2020-08",
          "2020-09",
          "2020-10",
          "2020-11",
          "2020-12"
         ],
         "xaxis": "x",
         "y": [
          704.7299999999944,
          707.5099999999944,
          658.8599999999949,
          735.3099999999941,
          675.5399999999947,
          651.909999999995,
          699.1699999999945,
          707.5099999999944,
          715.8499999999943,
          676.9299999999947,
          760.3299999999939,
          693.6099999999946,
          686.6599999999946,
          768.6699999999938,
          771.4499999999938,
          781.1799999999937,
          771.4499999999938,
          706.1199999999944,
          721.4099999999943,
          725.5799999999942,
          720.0199999999943,
          749.209999999994,
          740.8699999999941,
          674.1499999999947,
          783.9599999999937,
          753.379999999994,
          781.1799999999937,
          761.7199999999939,
          840.9499999999931,
          740.8699999999941,
          800.6399999999935,
          793.6899999999936,
          720.0199999999943,
          758.9399999999939,
          767.2799999999938,
          804.8099999999935
         ],
         "yaxis": "y"
        },
        {
         "hovertemplate": "color=Depotkonto<br>x=%{x}<br>y=%{y}<extra></extra>",
         "legendgroup": "Depotkonto",
         "line": {
          "color": "#00cc96",
          "dash": "solid"
         },
         "mode": "lines",
         "name": "Depotkonto",
         "orientation": "v",
         "showlegend": true,
         "type": "scatter",
         "x": [
          "2018-01",
          "2018-02",
          "2018-03",
          "2018-04",
          "2018-05",
          "2018-06",
          "2018-07",
          "2018-08",
          "2018-09",
          "2018-10",
          "2018-11",
          "2018-12",
          "2019-01",
          "2019-02",
          "2019-03",
          "2019-04",
          "2019-05",
          "2019-06",
          "2019-07",
          "2019-08",
          "2019-09",
          "2019-10",
          "2019-11",
          "2019-12",
          "2020-01",
          "2020-02",
          "2020-03",
          "2020-04",
          "2020-05",
          "2020-06",
          "2020-07",
          "2020-08",
          "2020-09",
          "2020-10",
          "2020-11",
          "2020-12"
         ],
         "xaxis": "x",
         "y": [
          363.47999999999985,
          347.16999999999996,
          314.5500000000002,
          293.5800000000003,
          277.27000000000044,
          349.49999999999994,
          349.49999999999994,
          316.88000000000017,
          344.84,
          307.56000000000023,
          382.1199999999997,
          337.85,
          372.7999999999998,
          393.76999999999964,
          419.39999999999947,
          386.7799999999997,
          372.7999999999998,
          344.84,
          344.84,
          326.2000000000001,
          354.1599999999999,
          419.39999999999947,
          349.49999999999994,
          347.16999999999996,
          347.16999999999996,
          347.16999999999996,
          372.7999999999998,
          340.18,
          386.7799999999997,
          379.78999999999974,
          328.5300000000001,
          368.1399999999998,
          328.5300000000001,
          363.47999999999985,
          349.49999999999994,
          384.4499999999997
         ],
         "yaxis": "y"
        },
        {
         "hovertemplate": "color=Girokonto<br>x=%{x}<br>y=%{y}<extra></extra>",
         "legendgroup": "Girokonto",
         "line": {
          "color": "#ab63fa",
          "dash": "solid"
         },
         "mode": "lines",
         "name": "Girokonto",
         "orientation": "v",
         "showlegend": true,
         "type": "scatter",
         "x": [
          "2018-01",
          "2018-02",
          "2018-03",
          "2018-04",
          "2018-05",
          "2018-06",
          "2018-07",
          "2018-08",
          "2018-09",
          "2018-10",
          "2018-11",
          "2018-12",
          "2019-01",
          "2019-02",
          "2019-03",
          "2019-04",
          "2019-05",
          "2019-06",
          "2019-07",
          "2019-08",
          "2019-09",
          "2019-10",
          "2019-11",
          "2019-12",
          "2020-01",
          "2020-02",
          "2020-03",
          "2020-04",
          "2020-05",
          "2020-06",
          "2020-07",
          "2020-08",
          "2020-09",
          "2020-10",
          "2020-11",
          "2020-12"
         ],
         "xaxis": "x",
         "y": [
          307.5999999999996,
          272.4000000000016,
          276.0000000000014,
          280.0000000000012,
          271.60000000000167,
          267.6000000000019,
          294.4000000000004,
          261.60000000000224,
          264.0000000000021,
          260.00000000000233,
          318.399999999999,
          254.80000000000254,
          298.00000000000017,
          282.40000000000106,
          304.7999999999998,
          292.0000000000005,
          292.0000000000005,
          302.7999999999999,
          275.60000000000144,
          277.60000000000133,
          284.00000000000097,
          299.6000000000001,
          286.00000000000085,
          283.200000000001,
          306.79999999999967,
          291.20000000000056,
          305.59999999999974,
          287.2000000000008,
          302.7999999999999,
          283.600000000001,
          318.399999999999,
          305.59999999999974,
          291.60000000000053,
          313.1999999999993,
          301.59999999999997,
          316.7999999999991
         ],
         "yaxis": "y"
        },
        {
         "hovertemplate": "color=Kredit<br>x=%{x}<br>y=%{y}<extra></extra>",
         "legendgroup": "Kredit",
         "line": {
          "color": "#FFA15A",
          "dash": "solid"
         },
         "mode": "lines",
         "name": "Kredit",
         "orientation": "v",
         "showlegend": true,
         "type": "scatter",
         "x": [
          "2018-01",
          "2018-02",
          "2018-03",
          "2018-04",
          "2018-05",
          "2018-06",
          "2018-07",
          "2018-08",
          "2018-09",
          "2018-10",
          "2018-11",
          "2018-12",
          "2019-01",
          "2019-02",
          "2019-03",
          "2019-04",
          "2019-05",
          "2019-06",
          "2019-07",
          "2019-08",
          "2019-09",
          "2019-10",
          "2019-11",
          "2019-12",
          "2020-01",
          "2020-02",
          "2020-03",
          "2020-04",
          "2020-05",
          "2020-06",
          "2020-07",
          "2020-08",
          "2020-09",
          "2020-10",
          "2020-11",
          "2020-12"
         ],
         "xaxis": "x",
         "y": [
          912.4500000000397,
          887.6000000000381,
          836.1500000000348,
          911.0500000000396,
          873.9500000000372,
          818.3000000000336,
          911.0500000000396,
          880.2500000000376,
          873.9500000000372,
          850.1500000000357,
          943.2500000000417,
          875.3500000000373,
          891.1000000000383,
          1008.350000000046,
          974.7500000000438,
          982.8000000000443,
          957.6000000000427,
          999.2500000000454,
          920.1500000000402,
          922.6000000000404,
          927.1500000000407,
          987.7000000000446,
          927.1500000000407,
          940.1000000000415,
          1024.4500000000469,
          938.0000000000414,
          963.550000000043,
          935.5500000000412,
          976.8500000000439,
          955.1500000000425,
          1031.1000000000452,
          993.300000000045,
          961.1000000000429,
          945.0000000000418,
          997.5000000000452,
          1032.8500000000447
         ],
         "yaxis": "y"
        },
        {
         "hovertemplate": "color=Tagesgeldkonto<br>x=%{x}<br>y=%{y}<extra></extra>",
         "legendgroup": "Tagesgeldkonto",
         "line": {
          "color": "#19d3f3",
          "dash": "solid"
         },
         "mode": "lines",
         "name": "Tagesgeldkonto",
         "orientation": "v",
         "showlegend": true,
         "type": "scatter",
         "x": [
          "2018-01",
          "2018-02",
          "2018-03",
          "2018-04",
          "2018-05",
          "2018-06",
          "2018-07",
          "2018-08",
          "2018-09",
          "2018-10",
          "2018-11",
          "2018-12",
          "2019-01",
          "2019-02",
          "2019-03",
          "2019-04",
          "2019-05",
          "2019-06",
          "2019-07",
          "2019-08",
          "2019-09",
          "2019-10",
          "2019-11",
          "2019-12",
          "2020-01",
          "2020-02",
          "2020-03",
          "2020-04",
          "2020-05",
          "2020-06",
          "2020-07",
          "2020-08",
          "2020-09",
          "2020-10",
          "2020-11",
          "2020-12"
         ],
         "xaxis": "x",
         "y": [
          103.95000000000006,
          87.78000000000004,
          110.88000000000007,
          85.47000000000004,
          90.09000000000005,
          66.99000000000002,
          78.54000000000003,
          97.02000000000005,
          106.26000000000006,
          94.71000000000005,
          103.95000000000006,
          78.54000000000003,
          90.09000000000005,
          131.67000000000007,
          97.02000000000005,
          115.50000000000007,
          83.16000000000004,
          92.40000000000005,
          99.33000000000006,
          99.33000000000006,
          99.33000000000006,
          87.78000000000004,
          78.54000000000003,
          73.92000000000003,
          106.26000000000006,
          101.64000000000006,
          87.78000000000004,
          87.78000000000004,
          103.95000000000006,
          87.78000000000004,
          115.50000000000007,
          76.23000000000003,
          76.23000000000003,
          80.85000000000004,
          113.19000000000007,
          101.64000000000006
         ],
         "yaxis": "y"
        },
        {
         "hovertemplate": "color=Versicherung<br>x=%{x}<br>y=%{y}<extra></extra>",
         "legendgroup": "Versicherung",
         "line": {
          "color": "#FF6692",
          "dash": "solid"
         },
         "mode": "lines",
         "name": "Versicherung",
         "orientation": "v",
         "showlegend": true,
         "type": "scatter",
         "x": [
          "2018-01",
          "2018-02",
          "2018-03",
          "2018-04",
          "2018-05",
          "2018-06",
          "2018-07",
          "2018-08",
          "2018-09",
          "2018-10",
          "2018-11",
          "2018-12",
          "2019-01",
          "2019-02",
          "2019-03",
          "2019-04",
          "2019-05",
          "2019-06",
          "2019-07",
          "2019-08",
          "2019-09",
          "2019-10",
          "2019-11",
          "2019-12",
          "2020-01",
          "2020-02",
          "2020-03",
          "2020-04",
          "2020-05",
          "2020-06",
          "2020-07",
          "2020-08",
          "2020-09",
          "2020-10",
          "2020-11",
          "2020-12"
         ],
         "xaxis": "x",
         "y": [
          859.5099999999993,
          944.6099999999992,
          825.4699999999993,
          782.9199999999994,
          748.8799999999994,
          731.8599999999994,
          859.5099999999993,
          927.5899999999992,
          799.9399999999994,
          893.5499999999993,
          893.5499999999993,
          1012.6899999999991,
          825.4699999999993,
          1038.2199999999991,
          961.6299999999992,
          970.1399999999992,
          842.4899999999993,
          850.9999999999993,
          868.0199999999993,
          850.9999999999993,
          893.5499999999993,
          1080.769999999999,
          927.5899999999992,
          902.0599999999993,
          1114.809999999999,
          1063.749999999999,
          1140.339999999999,
          825.4699999999993,
          876.5299999999993,
          868.0199999999993,
          944.6099999999992,
          774.4099999999994,
          927.5899999999992,
          1097.789999999999,
          919.0799999999992,
          1174.379999999999
         ],
         "yaxis": "y"
        }
       ],
       "layout": {
        "legend": {
         "title": {
          "text": "color"
         },
         "tracegroupgap": 0
        },
        "template": {
         "data": {
          "bar": [
           {
            "error_x": {
             "color": "#2a3f5f"
            },
            "error_y": {
             "color": "#2a3f5f"
            },
            "marker": {
             "line": {
              "color": "#E5ECF6",
              "width": 0.5
             }
            },
            "type": "bar"
           }
          ],
          "barpolar": [
           {
            "marker": {
             "line": {
              "color": "#E5ECF6",
              "width": 0.5
             }
            },
            "type": "barpolar"
           }
          ],
          "carpet": [
           {
            "aaxis": {
             "endlinecolor": "#2a3f5f",
             "gridcolor": "white",
             "linecolor": "white",
             "minorgridcolor": "white",
             "startlinecolor": "#2a3f5f"
            },
            "baxis": {
             "endlinecolor": "#2a3f5f",
             "gridcolor": "white",
             "linecolor": "white",
             "minorgridcolor": "white",
             "startlinecolor": "#2a3f5f"
            },
            "type": "carpet"
           }
          ],
          "choropleth": [
           {
            "colorbar": {
             "outlinewidth": 0,
             "ticks": ""
            },
            "type": "choropleth"
           }
          ],
          "contour": [
           {
            "colorbar": {
             "outlinewidth": 0,
             "ticks": ""
            },
            "colorscale": [
             [
              0,
              "#0d0887"
             ],
             [
              0.1111111111111111,
              "#46039f"
             ],
             [
              0.2222222222222222,
              "#7201a8"
             ],
             [
              0.3333333333333333,
              "#9c179e"
             ],
             [
              0.4444444444444444,
              "#bd3786"
             ],
             [
              0.5555555555555556,
              "#d8576b"
             ],
             [
              0.6666666666666666,
              "#ed7953"
             ],
             [
              0.7777777777777778,
              "#fb9f3a"
             ],
             [
              0.8888888888888888,
              "#fdca26"
             ],
             [
              1,
              "#f0f921"
             ]
            ],
            "type": "contour"
           }
          ],
          "contourcarpet": [
           {
            "colorbar": {
             "outlinewidth": 0,
             "ticks": ""
            },
            "type": "contourcarpet"
           }
          ],
          "heatmap": [
           {
            "colorbar": {
             "outlinewidth": 0,
             "ticks": ""
            },
            "colorscale": [
             [
              0,
              "#0d0887"
             ],
             [
              0.1111111111111111,
              "#46039f"
             ],
             [
              0.2222222222222222,
              "#7201a8"
             ],
             [
              0.3333333333333333,
              "#9c179e"
             ],
             [
              0.4444444444444444,
              "#bd3786"
             ],
             [
              0.5555555555555556,
              "#d8576b"
             ],
             [
              0.6666666666666666,
              "#ed7953"
             ],
             [
              0.7777777777777778,
              "#fb9f3a"
             ],
             [
              0.8888888888888888,
              "#fdca26"
             ],
             [
              1,
              "#f0f921"
             ]
            ],
            "type": "heatmap"
           }
          ],
          "heatmapgl": [
           {
            "colorbar": {
             "outlinewidth": 0,
             "ticks": ""
            },
            "colorscale": [
             [
              0,
              "#0d0887"
             ],
             [
              0.1111111111111111,
              "#46039f"
             ],
             [
              0.2222222222222222,
              "#7201a8"
             ],
             [
              0.3333333333333333,
              "#9c179e"
             ],
             [
              0.4444444444444444,
              "#bd3786"
             ],
             [
              0.5555555555555556,
              "#d8576b"
             ],
             [
              0.6666666666666666,
              "#ed7953"
             ],
             [
              0.7777777777777778,
              "#fb9f3a"
             ],
             [
              0.8888888888888888,
              "#fdca26"
             ],
             [
              1,
              "#f0f921"
             ]
            ],
            "type": "heatmapgl"
           }
          ],
          "histogram": [
           {
            "marker": {
             "colorbar": {
              "outlinewidth": 0,
              "ticks": ""
             }
            },
            "type": "histogram"
           }
          ],
          "histogram2d": [
           {
            "colorbar": {
             "outlinewidth": 0,
             "ticks": ""
            },
            "colorscale": [
             [
              0,
              "#0d0887"
             ],
             [
              0.1111111111111111,
              "#46039f"
             ],
             [
              0.2222222222222222,
              "#7201a8"
             ],
             [
              0.3333333333333333,
              "#9c179e"
             ],
             [
              0.4444444444444444,
              "#bd3786"
             ],
             [
              0.5555555555555556,
              "#d8576b"
             ],
             [
              0.6666666666666666,
              "#ed7953"
             ],
             [
              0.7777777777777778,
              "#fb9f3a"
             ],
             [
              0.8888888888888888,
              "#fdca26"
             ],
             [
              1,
              "#f0f921"
             ]
            ],
            "type": "histogram2d"
           }
          ],
          "histogram2dcontour": [
           {
            "colorbar": {
             "outlinewidth": 0,
             "ticks": ""
            },
            "colorscale": [
             [
              0,
              "#0d0887"
             ],
             [
              0.1111111111111111,
              "#46039f"
             ],
             [
              0.2222222222222222,
              "#7201a8"
             ],
             [
              0.3333333333333333,
              "#9c179e"
             ],
             [
              0.4444444444444444,
              "#bd3786"
             ],
             [
              0.5555555555555556,
              "#d8576b"
             ],
             [
              0.6666666666666666,
              "#ed7953"
             ],
             [
              0.7777777777777778,
              "#fb9f3a"
             ],
             [
              0.8888888888888888,
              "#fdca26"
             ],
             [
              1,
              "#f0f921"
             ]
            ],
            "type": "histogram2dcontour"
           }
          ],
          "mesh3d": [
           {
            "colorbar": {
             "outlinewidth": 0,
             "ticks": ""
            },
            "type": "mesh3d"
           }
          ],
          "parcoords": [
           {
            "line": {
             "colorbar": {
              "outlinewidth": 0,
              "ticks": ""
             }
            },
            "type": "parcoords"
           }
          ],
          "pie": [
           {
            "automargin": true,
            "type": "pie"
           }
          ],
          "scatter": [
           {
            "marker": {
             "colorbar": {
              "outlinewidth": 0,
              "ticks": ""
             }
            },
            "type": "scatter"
           }
          ],
          "scatter3d": [
           {
            "line": {
             "colorbar": {
              "outlinewidth": 0,
              "ticks": ""
             }
            },
            "marker": {
             "colorbar": {
              "outlinewidth": 0,
              "ticks": ""
             }
            },
            "type": "scatter3d"
           }
          ],
          "scattercarpet": [
           {
            "marker": {
             "colorbar": {
              "outlinewidth": 0,
              "ticks": ""
             }
            },
            "type": "scattercarpet"
           }
          ],
          "scattergeo": [
           {
            "marker": {
             "colorbar": {
              "outlinewidth": 0,
              "ticks": ""
             }
            },
            "type": "scattergeo"
           }
          ],
          "scattergl": [
           {
            "marker": {
             "colorbar": {
              "outlinewidth": 0,
              "ticks": ""
             }
            },
            "type": "scattergl"
           }
          ],
          "scattermapbox": [
           {
            "marker": {
             "colorbar": {
              "outlinewidth": 0,
              "ticks": ""
             }
            },
            "type": "scattermapbox"
           }
          ],
          "scatterpolar": [
           {
            "marker": {
             "colorbar": {
              "outlinewidth": 0,
              "ticks": ""
             }
            },
            "type": "scatterpolar"
           }
          ],
          "scatterpolargl": [
           {
            "marker": {
             "colorbar": {
              "outlinewidth": 0,
              "ticks": ""
             }
            },
            "type": "scatterpolargl"
           }
          ],
          "scatterternary": [
           {
            "marker": {
             "colorbar": {
              "outlinewidth": 0,
              "ticks": ""
             }
            },
            "type": "scatterternary"
           }
          ],
          "surface": [
           {
            "colorbar": {
             "outlinewidth": 0,
             "ticks": ""
            },
            "colorscale": [
             [
              0,
              "#0d0887"
             ],
             [
              0.1111111111111111,
              "#46039f"
             ],
             [
              0.2222222222222222,
              "#7201a8"
             ],
             [
              0.3333333333333333,
              "#9c179e"
             ],
             [
              0.4444444444444444,
              "#bd3786"
             ],
             [
              0.5555555555555556,
              "#d8576b"
             ],
             [
              0.6666666666666666,
              "#ed7953"
             ],
             [
              0.7777777777777778,
              "#fb9f3a"
             ],
             [
              0.8888888888888888,
              "#fdca26"
             ],
             [
              1,
              "#f0f921"
             ]
            ],
            "type": "surface"
           }
          ],
          "table": [
           {
            "cells": {
             "fill": {
              "color": "#EBF0F8"
             },
             "line": {
              "color": "white"
             }
            },
            "header": {
             "fill": {
              "color": "#C8D4E3"
             },
             "line": {
              "color": "white"
             }
            },
            "type": "table"
           }
          ]
         },
         "layout": {
          "annotationdefaults": {
           "arrowcolor": "#2a3f5f",
           "arrowhead": 0,
           "arrowwidth": 1
          },
          "autotypenumbers": "strict",
          "coloraxis": {
           "colorbar": {
            "outlinewidth": 0,
            "ticks": ""
           }
          },
          "colorscale": {
           "diverging": [
            [
             0,
             "#8e0152"
            ],
            [
             0.1,
             "#c51b7d"
            ],
            [
             0.2,
             "#de77ae"
            ],
            [
             0.3,
             "#f1b6da"
            ],
            [
             0.4,
             "#fde0ef"
            ],
            [
             0.5,
             "#f7f7f7"
            ],
            [
             0.6,
             "#e6f5d0"
            ],
            [
             0.7,
             "#b8e186"
            ],
            [
             0.8,
             "#7fbc41"
            ],
            [
             0.9,
             "#4d9221"
            ],
            [
             1,
             "#276419"
            ]
           ],
           "sequential": [
            [
             0,
             "#0d0887"
            ],
            [
             0.1111111111111111,
             "#46039f"
            ],
            [
             0.2222222222222222,
             "#7201a8"
            ],
            [
             0.3333333333333333,
             "#9c179e"
            ],
            [
             0.4444444444444444,
             "#bd3786"
            ],
            [
             0.5555555555555556,
             "#d8576b"
            ],
            [
             0.6666666666666666,
             "#ed7953"
            ],
            [
             0.7777777777777778,
             "#fb9f3a"
            ],
            [
             0.8888888888888888,
             "#fdca26"
            ],
            [
             1,
             "#f0f921"
            ]
           ],
           "sequentialminus": [
            [
             0,
             "#0d0887"
            ],
            [
             0.1111111111111111,
             "#46039f"
            ],
            [
             0.2222222222222222,
             "#7201a8"
            ],
            [
             0.3333333333333333,
             "#9c179e"
            ],
            [
             0.4444444444444444,
             "#bd3786"
            ],
            [
             0.5555555555555556,
             "#d8576b"
            ],
            [
             0.6666666666666666,
             "#ed7953"
            ],
            [
             0.7777777777777778,
             "#fb9f3a"
            ],
            [
             0.8888888888888888,
             "#fdca26"
            ],
            [
             1,
             "#f0f921"
            ]
           ]
          },
          "colorway": [
           "#636efa",
           "#EF553B",
           "#00cc96",
           "#ab63fa",
           "#FFA15A",
           "#19d3f3",
           "#FF6692",
           "#B6E880",
           "#FF97FF",
           "#FECB52"
          ],
          "font": {
           "color": "#2a3f5f"
          },
          "geo": {
           "bgcolor": "white",
           "lakecolor": "white",
           "landcolor": "#E5ECF6",
           "showlakes": true,
           "showland": true,
           "subunitcolor": "white"
          },
          "hoverlabel": {
           "align": "left"
          },
          "hovermode": "closest",
          "mapbox": {
           "style": "light"
          },
          "paper_bgcolor": "white",
          "plot_bgcolor": "#E5ECF6",
          "polar": {
           "angularaxis": {
            "gridcolor": "white",
            "linecolor": "white",
            "ticks": ""
           },
           "bgcolor": "#E5ECF6",
           "radialaxis": {
            "gridcolor": "white",
            "linecolor": "white",
            "ticks": ""
           }
          },
          "scene": {
           "xaxis": {
            "backgroundcolor": "#E5ECF6",
            "gridcolor": "white",
            "gridwidth": 2,
            "linecolor": "white",
            "showbackground": true,
            "ticks": "",
            "zerolinecolor": "white"
           },
           "yaxis": {
            "backgroundcolor": "#E5ECF6",
            "gridcolor": "white",
            "gridwidth": 2,
            "linecolor": "white",
            "showbackground": true,
            "ticks": "",
            "zerolinecolor": "white"
           },
           "zaxis": {
            "backgroundcolor": "#E5ECF6",
            "gridcolor": "white",
            "gridwidth": 2,
            "linecolor": "white",
            "showbackground": true,
            "ticks": "",
            "zerolinecolor": "white"
           }
          },
          "shapedefaults": {
           "line": {
            "color": "#2a3f5f"
           }
          },
          "ternary": {
           "aaxis": {
            "gridcolor": "white",
            "linecolor": "white",
            "ticks": ""
           },
           "baxis": {
            "gridcolor": "white",
            "linecolor": "white",
            "ticks": ""
           },
           "bgcolor": "#E5ECF6",
           "caxis": {
            "gridcolor": "white",
            "linecolor": "white",
            "ticks": ""
           }
          },
          "title": {
           "x": 0.05
          },
          "xaxis": {
           "automargin": true,
           "gridcolor": "white",
           "linecolor": "white",
           "ticks": "",
           "title": {
            "standoff": 15
           },
           "zerolinecolor": "white",
           "zerolinewidth": 2
          },
          "yaxis": {
           "automargin": true,
           "gridcolor": "white",
           "linecolor": "white",
           "ticks": "",
           "title": {
            "standoff": 15
           },
           "zerolinecolor": "white",
           "zerolinewidth": 2
          }
         }
        },
        "title": {
         "text": "Bankprodukte ~ Gewinn"
        },
        "xaxis": {
         "anchor": "y",
         "domain": [
          0,
          1
         ],
         "title": {
          "text": "x"
         }
        },
        "yaxis": {
         "anchor": "x",
         "domain": [
          0,
          1
         ],
         "title": {
          "text": "y"
         }
        }
       }
      },
      "text/html": [
       "<div>                            <div id=\"d21b79ec-886f-4ddc-944d-d1173352b747\" class=\"plotly-graph-div\" style=\"height:525px; width:100%;\"></div>            <script type=\"text/javascript\">                require([\"plotly\"], function(Plotly) {                    window.PLOTLYENV=window.PLOTLYENV || {};                                    if (document.getElementById(\"d21b79ec-886f-4ddc-944d-d1173352b747\")) {                    Plotly.newPlot(                        \"d21b79ec-886f-4ddc-944d-d1173352b747\",                        [{\"hovertemplate\": \"color=Altersvorsorge<br>x=%{x}<br>y=%{y}<extra></extra>\", \"legendgroup\": \"Altersvorsorge\", \"line\": {\"color\": \"#636efa\", \"dash\": \"solid\"}, \"mode\": \"lines\", \"name\": \"Altersvorsorge\", \"orientation\": \"v\", \"showlegend\": true, \"type\": \"scatter\", \"x\": [\"2018-01\", \"2018-02\", \"2018-03\", \"2018-04\", \"2018-05\", \"2018-06\", \"2018-07\", \"2018-08\", \"2018-09\", \"2018-10\", \"2018-11\", \"2018-12\", \"2019-01\", \"2019-02\", \"2019-03\", \"2019-04\", \"2019-05\", \"2019-06\", \"2019-07\", \"2019-08\", \"2019-09\", \"2019-10\", \"2019-11\", \"2019-12\", \"2020-01\", \"2020-02\", \"2020-03\", \"2020-04\", \"2020-05\", \"2020-06\", \"2020-07\", \"2020-08\", \"2020-09\", \"2020-10\", \"2020-11\", \"2020-12\"], \"xaxis\": \"x\", \"y\": [515.3500000000001, 384.17000000000013, 449.76000000000016, 543.4600000000002, 505.9800000000002, 393.54000000000013, 402.91000000000014, 431.02000000000015, 459.13000000000017, 374.8000000000001, 552.8300000000002, 515.3500000000001, 337.3200000000001, 524.7200000000001, 552.8300000000002, 534.0900000000001, 412.28000000000014, 599.6800000000002, 412.28000000000014, 609.0500000000002, 552.8300000000002, 590.3100000000002, 468.50000000000017, 487.2400000000002, 534.0900000000001, 477.8700000000002, 543.4600000000002, 580.9400000000002, 505.9800000000002, 459.13000000000017, 477.8700000000002, 468.50000000000017, 515.3500000000001, 580.9400000000002, 609.0500000000002, 543.4600000000002], \"yaxis\": \"y\"}, {\"hovertemplate\": \"color=Bausparvertrag<br>x=%{x}<br>y=%{y}<extra></extra>\", \"legendgroup\": \"Bausparvertrag\", \"line\": {\"color\": \"#EF553B\", \"dash\": \"solid\"}, \"mode\": \"lines\", \"name\": \"Bausparvertrag\", \"orientation\": \"v\", \"showlegend\": true, \"type\": \"scatter\", \"x\": [\"2018-01\", \"2018-02\", \"2018-03\", \"2018-04\", \"2018-05\", \"2018-06\", \"2018-07\", \"2018-08\", \"2018-09\", \"2018-10\", \"2018-11\", \"2018-12\", \"2019-01\", \"2019-02\", \"2019-03\", \"2019-04\", \"2019-05\", \"2019-06\", \"2019-07\", \"2019-08\", \"2019-09\", \"2019-10\", \"2019-11\", \"2019-12\", \"2020-01\", \"2020-02\", \"2020-03\", \"2020-04\", \"2020-05\", \"2020-06\", \"2020-07\", \"2020-08\", \"2020-09\", \"2020-10\", \"2020-11\", \"2020-12\"], \"xaxis\": \"x\", \"y\": [704.7299999999944, 707.5099999999944, 658.8599999999949, 735.3099999999941, 675.5399999999947, 651.909999999995, 699.1699999999945, 707.5099999999944, 715.8499999999943, 676.9299999999947, 760.3299999999939, 693.6099999999946, 686.6599999999946, 768.6699999999938, 771.4499999999938, 781.1799999999937, 771.4499999999938, 706.1199999999944, 721.4099999999943, 725.5799999999942, 720.0199999999943, 749.209999999994, 740.8699999999941, 674.1499999999947, 783.9599999999937, 753.379999999994, 781.1799999999937, 761.7199999999939, 840.9499999999931, 740.8699999999941, 800.6399999999935, 793.6899999999936, 720.0199999999943, 758.9399999999939, 767.2799999999938, 804.8099999999935], \"yaxis\": \"y\"}, {\"hovertemplate\": \"color=Depotkonto<br>x=%{x}<br>y=%{y}<extra></extra>\", \"legendgroup\": \"Depotkonto\", \"line\": {\"color\": \"#00cc96\", \"dash\": \"solid\"}, \"mode\": \"lines\", \"name\": \"Depotkonto\", \"orientation\": \"v\", \"showlegend\": true, \"type\": \"scatter\", \"x\": [\"2018-01\", \"2018-02\", \"2018-03\", \"2018-04\", \"2018-05\", \"2018-06\", \"2018-07\", \"2018-08\", \"2018-09\", \"2018-10\", \"2018-11\", \"2018-12\", \"2019-01\", \"2019-02\", \"2019-03\", \"2019-04\", \"2019-05\", \"2019-06\", \"2019-07\", \"2019-08\", \"2019-09\", \"2019-10\", \"2019-11\", \"2019-12\", \"2020-01\", \"2020-02\", \"2020-03\", \"2020-04\", \"2020-05\", \"2020-06\", \"2020-07\", \"2020-08\", \"2020-09\", \"2020-10\", \"2020-11\", \"2020-12\"], \"xaxis\": \"x\", \"y\": [363.47999999999985, 347.16999999999996, 314.5500000000002, 293.5800000000003, 277.27000000000044, 349.49999999999994, 349.49999999999994, 316.88000000000017, 344.84, 307.56000000000023, 382.1199999999997, 337.85, 372.7999999999998, 393.76999999999964, 419.39999999999947, 386.7799999999997, 372.7999999999998, 344.84, 344.84, 326.2000000000001, 354.1599999999999, 419.39999999999947, 349.49999999999994, 347.16999999999996, 347.16999999999996, 347.16999999999996, 372.7999999999998, 340.18, 386.7799999999997, 379.78999999999974, 328.5300000000001, 368.1399999999998, 328.5300000000001, 363.47999999999985, 349.49999999999994, 384.4499999999997], \"yaxis\": \"y\"}, {\"hovertemplate\": \"color=Girokonto<br>x=%{x}<br>y=%{y}<extra></extra>\", \"legendgroup\": \"Girokonto\", \"line\": {\"color\": \"#ab63fa\", \"dash\": \"solid\"}, \"mode\": \"lines\", \"name\": \"Girokonto\", \"orientation\": \"v\", \"showlegend\": true, \"type\": \"scatter\", \"x\": [\"2018-01\", \"2018-02\", \"2018-03\", \"2018-04\", \"2018-05\", \"2018-06\", \"2018-07\", \"2018-08\", \"2018-09\", \"2018-10\", \"2018-11\", \"2018-12\", \"2019-01\", \"2019-02\", \"2019-03\", \"2019-04\", \"2019-05\", \"2019-06\", \"2019-07\", \"2019-08\", \"2019-09\", \"2019-10\", \"2019-11\", \"2019-12\", \"2020-01\", \"2020-02\", \"2020-03\", \"2020-04\", \"2020-05\", \"2020-06\", \"2020-07\", \"2020-08\", \"2020-09\", \"2020-10\", \"2020-11\", \"2020-12\"], \"xaxis\": \"x\", \"y\": [307.5999999999996, 272.4000000000016, 276.0000000000014, 280.0000000000012, 271.60000000000167, 267.6000000000019, 294.4000000000004, 261.60000000000224, 264.0000000000021, 260.00000000000233, 318.399999999999, 254.80000000000254, 298.00000000000017, 282.40000000000106, 304.7999999999998, 292.0000000000005, 292.0000000000005, 302.7999999999999, 275.60000000000144, 277.60000000000133, 284.00000000000097, 299.6000000000001, 286.00000000000085, 283.200000000001, 306.79999999999967, 291.20000000000056, 305.59999999999974, 287.2000000000008, 302.7999999999999, 283.600000000001, 318.399999999999, 305.59999999999974, 291.60000000000053, 313.1999999999993, 301.59999999999997, 316.7999999999991], \"yaxis\": \"y\"}, {\"hovertemplate\": \"color=Kredit<br>x=%{x}<br>y=%{y}<extra></extra>\", \"legendgroup\": \"Kredit\", \"line\": {\"color\": \"#FFA15A\", \"dash\": \"solid\"}, \"mode\": \"lines\", \"name\": \"Kredit\", \"orientation\": \"v\", \"showlegend\": true, \"type\": \"scatter\", \"x\": [\"2018-01\", \"2018-02\", \"2018-03\", \"2018-04\", \"2018-05\", \"2018-06\", \"2018-07\", \"2018-08\", \"2018-09\", \"2018-10\", \"2018-11\", \"2018-12\", \"2019-01\", \"2019-02\", \"2019-03\", \"2019-04\", \"2019-05\", \"2019-06\", \"2019-07\", \"2019-08\", \"2019-09\", \"2019-10\", \"2019-11\", \"2019-12\", \"2020-01\", \"2020-02\", \"2020-03\", \"2020-04\", \"2020-05\", \"2020-06\", \"2020-07\", \"2020-08\", \"2020-09\", \"2020-10\", \"2020-11\", \"2020-12\"], \"xaxis\": \"x\", \"y\": [912.4500000000397, 887.6000000000381, 836.1500000000348, 911.0500000000396, 873.9500000000372, 818.3000000000336, 911.0500000000396, 880.2500000000376, 873.9500000000372, 850.1500000000357, 943.2500000000417, 875.3500000000373, 891.1000000000383, 1008.350000000046, 974.7500000000438, 982.8000000000443, 957.6000000000427, 999.2500000000454, 920.1500000000402, 922.6000000000404, 927.1500000000407, 987.7000000000446, 927.1500000000407, 940.1000000000415, 1024.4500000000469, 938.0000000000414, 963.550000000043, 935.5500000000412, 976.8500000000439, 955.1500000000425, 1031.1000000000452, 993.300000000045, 961.1000000000429, 945.0000000000418, 997.5000000000452, 1032.8500000000447], \"yaxis\": \"y\"}, {\"hovertemplate\": \"color=Tagesgeldkonto<br>x=%{x}<br>y=%{y}<extra></extra>\", \"legendgroup\": \"Tagesgeldkonto\", \"line\": {\"color\": \"#19d3f3\", \"dash\": \"solid\"}, \"mode\": \"lines\", \"name\": \"Tagesgeldkonto\", \"orientation\": \"v\", \"showlegend\": true, \"type\": \"scatter\", \"x\": [\"2018-01\", \"2018-02\", \"2018-03\", \"2018-04\", \"2018-05\", \"2018-06\", \"2018-07\", \"2018-08\", \"2018-09\", \"2018-10\", \"2018-11\", \"2018-12\", \"2019-01\", \"2019-02\", \"2019-03\", \"2019-04\", \"2019-05\", \"2019-06\", \"2019-07\", \"2019-08\", \"2019-09\", \"2019-10\", \"2019-11\", \"2019-12\", \"2020-01\", \"2020-02\", \"2020-03\", \"2020-04\", \"2020-05\", \"2020-06\", \"2020-07\", \"2020-08\", \"2020-09\", \"2020-10\", \"2020-11\", \"2020-12\"], \"xaxis\": \"x\", \"y\": [103.95000000000006, 87.78000000000004, 110.88000000000007, 85.47000000000004, 90.09000000000005, 66.99000000000002, 78.54000000000003, 97.02000000000005, 106.26000000000006, 94.71000000000005, 103.95000000000006, 78.54000000000003, 90.09000000000005, 131.67000000000007, 97.02000000000005, 115.50000000000007, 83.16000000000004, 92.40000000000005, 99.33000000000006, 99.33000000000006, 99.33000000000006, 87.78000000000004, 78.54000000000003, 73.92000000000003, 106.26000000000006, 101.64000000000006, 87.78000000000004, 87.78000000000004, 103.95000000000006, 87.78000000000004, 115.50000000000007, 76.23000000000003, 76.23000000000003, 80.85000000000004, 113.19000000000007, 101.64000000000006], \"yaxis\": \"y\"}, {\"hovertemplate\": \"color=Versicherung<br>x=%{x}<br>y=%{y}<extra></extra>\", \"legendgroup\": \"Versicherung\", \"line\": {\"color\": \"#FF6692\", \"dash\": \"solid\"}, \"mode\": \"lines\", \"name\": \"Versicherung\", \"orientation\": \"v\", \"showlegend\": true, \"type\": \"scatter\", \"x\": [\"2018-01\", \"2018-02\", \"2018-03\", \"2018-04\", \"2018-05\", \"2018-06\", \"2018-07\", \"2018-08\", \"2018-09\", \"2018-10\", \"2018-11\", \"2018-12\", \"2019-01\", \"2019-02\", \"2019-03\", \"2019-04\", \"2019-05\", \"2019-06\", \"2019-07\", \"2019-08\", \"2019-09\", \"2019-10\", \"2019-11\", \"2019-12\", \"2020-01\", \"2020-02\", \"2020-03\", \"2020-04\", \"2020-05\", \"2020-06\", \"2020-07\", \"2020-08\", \"2020-09\", \"2020-10\", \"2020-11\", \"2020-12\"], \"xaxis\": \"x\", \"y\": [859.5099999999993, 944.6099999999992, 825.4699999999993, 782.9199999999994, 748.8799999999994, 731.8599999999994, 859.5099999999993, 927.5899999999992, 799.9399999999994, 893.5499999999993, 893.5499999999993, 1012.6899999999991, 825.4699999999993, 1038.2199999999991, 961.6299999999992, 970.1399999999992, 842.4899999999993, 850.9999999999993, 868.0199999999993, 850.9999999999993, 893.5499999999993, 1080.769999999999, 927.5899999999992, 902.0599999999993, 1114.809999999999, 1063.749999999999, 1140.339999999999, 825.4699999999993, 876.5299999999993, 868.0199999999993, 944.6099999999992, 774.4099999999994, 927.5899999999992, 1097.789999999999, 919.0799999999992, 1174.379999999999], \"yaxis\": \"y\"}],                        {\"legend\": {\"title\": {\"text\": \"color\"}, \"tracegroupgap\": 0}, \"template\": {\"data\": {\"bar\": [{\"error_x\": {\"color\": \"#2a3f5f\"}, \"error_y\": {\"color\": \"#2a3f5f\"}, \"marker\": {\"line\": {\"color\": \"#E5ECF6\", \"width\": 0.5}}, \"type\": \"bar\"}], \"barpolar\": [{\"marker\": {\"line\": {\"color\": \"#E5ECF6\", \"width\": 0.5}}, \"type\": \"barpolar\"}], \"carpet\": [{\"aaxis\": {\"endlinecolor\": \"#2a3f5f\", \"gridcolor\": \"white\", \"linecolor\": \"white\", \"minorgridcolor\": \"white\", \"startlinecolor\": \"#2a3f5f\"}, \"baxis\": {\"endlinecolor\": \"#2a3f5f\", \"gridcolor\": \"white\", \"linecolor\": \"white\", \"minorgridcolor\": \"white\", \"startlinecolor\": \"#2a3f5f\"}, \"type\": \"carpet\"}], \"choropleth\": [{\"colorbar\": {\"outlinewidth\": 0, \"ticks\": \"\"}, \"type\": \"choropleth\"}], \"contour\": [{\"colorbar\": {\"outlinewidth\": 0, \"ticks\": \"\"}, \"colorscale\": [[0.0, \"#0d0887\"], [0.1111111111111111, \"#46039f\"], [0.2222222222222222, \"#7201a8\"], [0.3333333333333333, \"#9c179e\"], [0.4444444444444444, \"#bd3786\"], [0.5555555555555556, \"#d8576b\"], [0.6666666666666666, \"#ed7953\"], [0.7777777777777778, \"#fb9f3a\"], [0.8888888888888888, \"#fdca26\"], [1.0, \"#f0f921\"]], \"type\": \"contour\"}], \"contourcarpet\": [{\"colorbar\": {\"outlinewidth\": 0, \"ticks\": \"\"}, \"type\": \"contourcarpet\"}], \"heatmap\": [{\"colorbar\": {\"outlinewidth\": 0, \"ticks\": \"\"}, \"colorscale\": [[0.0, \"#0d0887\"], [0.1111111111111111, \"#46039f\"], [0.2222222222222222, \"#7201a8\"], [0.3333333333333333, \"#9c179e\"], [0.4444444444444444, \"#bd3786\"], [0.5555555555555556, \"#d8576b\"], [0.6666666666666666, \"#ed7953\"], [0.7777777777777778, \"#fb9f3a\"], [0.8888888888888888, \"#fdca26\"], [1.0, \"#f0f921\"]], \"type\": \"heatmap\"}], \"heatmapgl\": [{\"colorbar\": {\"outlinewidth\": 0, \"ticks\": \"\"}, \"colorscale\": [[0.0, \"#0d0887\"], [0.1111111111111111, \"#46039f\"], [0.2222222222222222, \"#7201a8\"], [0.3333333333333333, \"#9c179e\"], [0.4444444444444444, \"#bd3786\"], [0.5555555555555556, \"#d8576b\"], [0.6666666666666666, \"#ed7953\"], [0.7777777777777778, \"#fb9f3a\"], [0.8888888888888888, \"#fdca26\"], [1.0, \"#f0f921\"]], \"type\": \"heatmapgl\"}], \"histogram\": [{\"marker\": {\"colorbar\": {\"outlinewidth\": 0, \"ticks\": \"\"}}, \"type\": \"histogram\"}], \"histogram2d\": [{\"colorbar\": {\"outlinewidth\": 0, \"ticks\": \"\"}, \"colorscale\": [[0.0, \"#0d0887\"], [0.1111111111111111, \"#46039f\"], [0.2222222222222222, \"#7201a8\"], [0.3333333333333333, \"#9c179e\"], [0.4444444444444444, \"#bd3786\"], [0.5555555555555556, \"#d8576b\"], [0.6666666666666666, \"#ed7953\"], [0.7777777777777778, \"#fb9f3a\"], [0.8888888888888888, \"#fdca26\"], [1.0, \"#f0f921\"]], \"type\": \"histogram2d\"}], \"histogram2dcontour\": [{\"colorbar\": {\"outlinewidth\": 0, \"ticks\": \"\"}, \"colorscale\": [[0.0, \"#0d0887\"], [0.1111111111111111, \"#46039f\"], [0.2222222222222222, \"#7201a8\"], [0.3333333333333333, \"#9c179e\"], [0.4444444444444444, \"#bd3786\"], [0.5555555555555556, \"#d8576b\"], [0.6666666666666666, \"#ed7953\"], [0.7777777777777778, \"#fb9f3a\"], [0.8888888888888888, \"#fdca26\"], [1.0, \"#f0f921\"]], \"type\": \"histogram2dcontour\"}], \"mesh3d\": [{\"colorbar\": {\"outlinewidth\": 0, \"ticks\": \"\"}, \"type\": \"mesh3d\"}], \"parcoords\": [{\"line\": {\"colorbar\": {\"outlinewidth\": 0, \"ticks\": \"\"}}, \"type\": \"parcoords\"}], \"pie\": [{\"automargin\": true, \"type\": \"pie\"}], \"scatter\": [{\"marker\": {\"colorbar\": {\"outlinewidth\": 0, \"ticks\": \"\"}}, \"type\": \"scatter\"}], \"scatter3d\": [{\"line\": {\"colorbar\": {\"outlinewidth\": 0, \"ticks\": \"\"}}, \"marker\": {\"colorbar\": {\"outlinewidth\": 0, \"ticks\": \"\"}}, \"type\": \"scatter3d\"}], \"scattercarpet\": [{\"marker\": {\"colorbar\": {\"outlinewidth\": 0, \"ticks\": \"\"}}, \"type\": \"scattercarpet\"}], \"scattergeo\": [{\"marker\": {\"colorbar\": {\"outlinewidth\": 0, \"ticks\": \"\"}}, \"type\": \"scattergeo\"}], \"scattergl\": [{\"marker\": {\"colorbar\": {\"outlinewidth\": 0, \"ticks\": \"\"}}, \"type\": \"scattergl\"}], \"scattermapbox\": [{\"marker\": {\"colorbar\": {\"outlinewidth\": 0, \"ticks\": \"\"}}, \"type\": \"scattermapbox\"}], \"scatterpolar\": [{\"marker\": {\"colorbar\": {\"outlinewidth\": 0, \"ticks\": \"\"}}, \"type\": \"scatterpolar\"}], \"scatterpolargl\": [{\"marker\": {\"colorbar\": {\"outlinewidth\": 0, \"ticks\": \"\"}}, \"type\": \"scatterpolargl\"}], \"scatterternary\": [{\"marker\": {\"colorbar\": {\"outlinewidth\": 0, \"ticks\": \"\"}}, \"type\": \"scatterternary\"}], \"surface\": [{\"colorbar\": {\"outlinewidth\": 0, \"ticks\": \"\"}, \"colorscale\": [[0.0, \"#0d0887\"], [0.1111111111111111, \"#46039f\"], [0.2222222222222222, \"#7201a8\"], [0.3333333333333333, \"#9c179e\"], [0.4444444444444444, \"#bd3786\"], [0.5555555555555556, \"#d8576b\"], [0.6666666666666666, \"#ed7953\"], [0.7777777777777778, \"#fb9f3a\"], [0.8888888888888888, \"#fdca26\"], [1.0, \"#f0f921\"]], \"type\": \"surface\"}], \"table\": [{\"cells\": {\"fill\": {\"color\": \"#EBF0F8\"}, \"line\": {\"color\": \"white\"}}, \"header\": {\"fill\": {\"color\": \"#C8D4E3\"}, \"line\": {\"color\": \"white\"}}, \"type\": \"table\"}]}, \"layout\": {\"annotationdefaults\": {\"arrowcolor\": \"#2a3f5f\", \"arrowhead\": 0, \"arrowwidth\": 1}, \"autotypenumbers\": \"strict\", \"coloraxis\": {\"colorbar\": {\"outlinewidth\": 0, \"ticks\": \"\"}}, \"colorscale\": {\"diverging\": [[0, \"#8e0152\"], [0.1, \"#c51b7d\"], [0.2, \"#de77ae\"], [0.3, \"#f1b6da\"], [0.4, \"#fde0ef\"], [0.5, \"#f7f7f7\"], [0.6, \"#e6f5d0\"], [0.7, \"#b8e186\"], [0.8, \"#7fbc41\"], [0.9, \"#4d9221\"], [1, \"#276419\"]], \"sequential\": [[0.0, \"#0d0887\"], [0.1111111111111111, \"#46039f\"], [0.2222222222222222, \"#7201a8\"], [0.3333333333333333, \"#9c179e\"], [0.4444444444444444, \"#bd3786\"], [0.5555555555555556, \"#d8576b\"], [0.6666666666666666, \"#ed7953\"], [0.7777777777777778, \"#fb9f3a\"], [0.8888888888888888, \"#fdca26\"], [1.0, \"#f0f921\"]], \"sequentialminus\": [[0.0, \"#0d0887\"], [0.1111111111111111, \"#46039f\"], [0.2222222222222222, \"#7201a8\"], [0.3333333333333333, \"#9c179e\"], [0.4444444444444444, \"#bd3786\"], [0.5555555555555556, \"#d8576b\"], [0.6666666666666666, \"#ed7953\"], [0.7777777777777778, \"#fb9f3a\"], [0.8888888888888888, \"#fdca26\"], [1.0, \"#f0f921\"]]}, \"colorway\": [\"#636efa\", \"#EF553B\", \"#00cc96\", \"#ab63fa\", \"#FFA15A\", \"#19d3f3\", \"#FF6692\", \"#B6E880\", \"#FF97FF\", \"#FECB52\"], \"font\": {\"color\": \"#2a3f5f\"}, \"geo\": {\"bgcolor\": \"white\", \"lakecolor\": \"white\", \"landcolor\": \"#E5ECF6\", \"showlakes\": true, \"showland\": true, \"subunitcolor\": \"white\"}, \"hoverlabel\": {\"align\": \"left\"}, \"hovermode\": \"closest\", \"mapbox\": {\"style\": \"light\"}, \"paper_bgcolor\": \"white\", \"plot_bgcolor\": \"#E5ECF6\", \"polar\": {\"angularaxis\": {\"gridcolor\": \"white\", \"linecolor\": \"white\", \"ticks\": \"\"}, \"bgcolor\": \"#E5ECF6\", \"radialaxis\": {\"gridcolor\": \"white\", \"linecolor\": \"white\", \"ticks\": \"\"}}, \"scene\": {\"xaxis\": {\"backgroundcolor\": \"#E5ECF6\", \"gridcolor\": \"white\", \"gridwidth\": 2, \"linecolor\": \"white\", \"showbackground\": true, \"ticks\": \"\", \"zerolinecolor\": \"white\"}, \"yaxis\": {\"backgroundcolor\": \"#E5ECF6\", \"gridcolor\": \"white\", \"gridwidth\": 2, \"linecolor\": \"white\", \"showbackground\": true, \"ticks\": \"\", \"zerolinecolor\": \"white\"}, \"zaxis\": {\"backgroundcolor\": \"#E5ECF6\", \"gridcolor\": \"white\", \"gridwidth\": 2, \"linecolor\": \"white\", \"showbackground\": true, \"ticks\": \"\", \"zerolinecolor\": \"white\"}}, \"shapedefaults\": {\"line\": {\"color\": \"#2a3f5f\"}}, \"ternary\": {\"aaxis\": {\"gridcolor\": \"white\", \"linecolor\": \"white\", \"ticks\": \"\"}, \"baxis\": {\"gridcolor\": \"white\", \"linecolor\": \"white\", \"ticks\": \"\"}, \"bgcolor\": \"#E5ECF6\", \"caxis\": {\"gridcolor\": \"white\", \"linecolor\": \"white\", \"ticks\": \"\"}}, \"title\": {\"x\": 0.05}, \"xaxis\": {\"automargin\": true, \"gridcolor\": \"white\", \"linecolor\": \"white\", \"ticks\": \"\", \"title\": {\"standoff\": 15}, \"zerolinecolor\": \"white\", \"zerolinewidth\": 2}, \"yaxis\": {\"automargin\": true, \"gridcolor\": \"white\", \"linecolor\": \"white\", \"ticks\": \"\", \"title\": {\"standoff\": 15}, \"zerolinecolor\": \"white\", \"zerolinewidth\": 2}}}, \"title\": {\"text\": \"Bankprodukte ~ Gewinn\"}, \"xaxis\": {\"anchor\": \"y\", \"domain\": [0.0, 1.0], \"title\": {\"text\": \"x\"}}, \"yaxis\": {\"anchor\": \"x\", \"domain\": [0.0, 1.0], \"title\": {\"text\": \"y\"}}},                        {\"responsive\": true}                    ).then(function(){\n",
       "                            \n",
       "var gd = document.getElementById('d21b79ec-886f-4ddc-944d-d1173352b747');\n",
       "var x = new MutationObserver(function (mutations, observer) {{\n",
       "        var display = window.getComputedStyle(gd).display;\n",
       "        if (!display || display === 'none') {{\n",
       "            console.log([gd, 'removed!']);\n",
       "            Plotly.purge(gd);\n",
       "            observer.disconnect();\n",
       "        }}\n",
       "}});\n",
       "\n",
       "// Listen for the removal of the full notebook cells\n",
       "var notebookContainer = gd.closest('#notebook-container');\n",
       "if (notebookContainer) {{\n",
       "    x.observe(notebookContainer, {childList: true});\n",
       "}}\n",
       "\n",
       "// Listen for the clearing of the current output cell\n",
       "var outputEl = gd.closest('.output');\n",
       "if (outputEl) {{\n",
       "    x.observe(outputEl, {childList: true});\n",
       "}}\n",
       "\n",
       "                        })                };                });            </script>        </div>"
      ]
     },
     "metadata": {},
     "output_type": "display_data"
    }
   ],
   "source": [
    "px.line(df_Gewinn_pro_Monat, x=df_Gewinn_pro_Monat[\"Monats-Datum\"], y=df_Gewinn_pro_Monat[\"Gewinn\"], color=df_Gewinn_pro_Monat[\"Angebotenes Produkt\"], title=\"Bankprodukte ~ Gewinn\")"
   ]
  },
  {
   "cell_type": "code",
   "execution_count": null,
   "metadata": {},
   "outputs": [],
   "source": []
  }
 ],
 "metadata": {
  "kernelspec": {
   "display_name": "Python 3",
   "language": "python",
   "name": "python3"
  },
  "language_info": {
   "codemirror_mode": {
    "name": "ipython",
    "version": 3
   },
   "file_extension": ".py",
   "mimetype": "text/x-python",
   "name": "python",
   "nbconvert_exporter": "python",
   "pygments_lexer": "ipython3",
   "version": "3.8.5"
  }
 },
 "nbformat": 4,
 "nbformat_minor": 4
}
