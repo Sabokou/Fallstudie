{
 "cells": [
  {
   "cell_type": "markdown",
   "metadata": {},
   "source": [
    "# Fallstudie"
   ]
  },
  {
   "cell_type": "markdown",
   "metadata": {},
   "source": [
    "## Import Pakete"
   ]
  },
  {
   "cell_type": "code",
   "execution_count": 1,
   "metadata": {},
   "outputs": [],
   "source": [
    "import pandas as pd\n",
    "import numpy as np\n",
    "import sqlite3\n",
    "import sklearn\n",
    "from sklearn.model_selection import train_test_split\n",
    "from sklearn.ensemble import RandomForestClassifier\n",
    "from xgboost import XGBClassifier\n",
    "from sqlalchemy import create_engine \n",
    "from sklearn.neighbors import KNeighborsClassifier\n",
    "import pickle"
   ]
  },
  {
   "cell_type": "markdown",
   "metadata": {},
   "source": [
    "## Import Datenbank"
   ]
  },
  {
   "cell_type": "code",
   "execution_count": 2,
   "metadata": {},
   "outputs": [],
   "source": [
    "\n",
    "cnx = create_engine('sqlite:///Kundendaten.db').connect() \n",
    "\n",
    "  \n",
    "df = pd.read_sql_table('testdaten', cnx) "
   ]
  },
  {
   "cell_type": "code",
   "execution_count": 3,
   "metadata": {},
   "outputs": [],
   "source": [
    "#df = df.head(100000)"
   ]
  },
  {
   "cell_type": "markdown",
   "metadata": {},
   "source": [
    "## Datenmodellierung "
   ]
  },
  {
   "cell_type": "code",
   "execution_count": 4,
   "metadata": {},
   "outputs": [],
   "source": [
    "df = df.drop([\"Datum\"], 1)\n",
    "df = df.drop([\"Anzahl\"], 1)\n",
    "df = df.drop([\"Gewinn\"], 1)\n",
    "df = df.drop([\"Jahr\"], 1)\n",
    "df = df.drop([\"Monat\"], 1)\n",
    "df = df.drop([\"Tag\"], 1)\n",
    "df = df.drop([\"index\"], 1)"
   ]
  },
  {
   "cell_type": "code",
   "execution_count": 5,
   "metadata": {},
   "outputs": [
    {
     "output_type": "execute_result",
     "data": {
      "text/plain": [
       "   Alter Geschlecht                  Job Familienstand Kinder    Gehalt  \\\n",
       "0     52          M  Öffentlicher Dienst         ledig     ja   54000.0   \n",
       "1     57          M      Ingenieurswesen   verheiratet     ja  167000.0   \n",
       "2     24          W               Handel         ledig   nein   21000.0   \n",
       "3     32          M             Handwerk   verheiratet     ja   32000.0   \n",
       "4     62          W               Handel   verheiratet     ja   64000.0   \n",
       "\n",
       "  Angebotenes Produkt Gekauft  \n",
       "0          Depotkonto    nein  \n",
       "1          Depotkonto    nein  \n",
       "2              Kredit    nein  \n",
       "3      Altersvorsorge    nein  \n",
       "4      Altersvorsorge    nein  "
      ],
      "text/html": "<div>\n<style scoped>\n    .dataframe tbody tr th:only-of-type {\n        vertical-align: middle;\n    }\n\n    .dataframe tbody tr th {\n        vertical-align: top;\n    }\n\n    .dataframe thead th {\n        text-align: right;\n    }\n</style>\n<table border=\"1\" class=\"dataframe\">\n  <thead>\n    <tr style=\"text-align: right;\">\n      <th></th>\n      <th>Alter</th>\n      <th>Geschlecht</th>\n      <th>Job</th>\n      <th>Familienstand</th>\n      <th>Kinder</th>\n      <th>Gehalt</th>\n      <th>Angebotenes Produkt</th>\n      <th>Gekauft</th>\n    </tr>\n  </thead>\n  <tbody>\n    <tr>\n      <th>0</th>\n      <td>52</td>\n      <td>M</td>\n      <td>Öffentlicher Dienst</td>\n      <td>ledig</td>\n      <td>ja</td>\n      <td>54000.0</td>\n      <td>Depotkonto</td>\n      <td>nein</td>\n    </tr>\n    <tr>\n      <th>1</th>\n      <td>57</td>\n      <td>M</td>\n      <td>Ingenieurswesen</td>\n      <td>verheiratet</td>\n      <td>ja</td>\n      <td>167000.0</td>\n      <td>Depotkonto</td>\n      <td>nein</td>\n    </tr>\n    <tr>\n      <th>2</th>\n      <td>24</td>\n      <td>W</td>\n      <td>Handel</td>\n      <td>ledig</td>\n      <td>nein</td>\n      <td>21000.0</td>\n      <td>Kredit</td>\n      <td>nein</td>\n    </tr>\n    <tr>\n      <th>3</th>\n      <td>32</td>\n      <td>M</td>\n      <td>Handwerk</td>\n      <td>verheiratet</td>\n      <td>ja</td>\n      <td>32000.0</td>\n      <td>Altersvorsorge</td>\n      <td>nein</td>\n    </tr>\n    <tr>\n      <th>4</th>\n      <td>62</td>\n      <td>W</td>\n      <td>Handel</td>\n      <td>verheiratet</td>\n      <td>ja</td>\n      <td>64000.0</td>\n      <td>Altersvorsorge</td>\n      <td>nein</td>\n    </tr>\n  </tbody>\n</table>\n</div>"
     },
     "metadata": {},
     "execution_count": 5
    }
   ],
   "source": [
    "df.head()"
   ]
  },
  {
   "cell_type": "code",
   "execution_count": 6,
   "metadata": {},
   "outputs": [],
   "source": [
    "pd.options.mode.chained_assignment = None  # default='warn'\n",
    "df[\"Altersgruppe\"] = \">65\"\n",
    "\n",
    "df[\"Altersgruppe\"][df[\"Alter\"] > 65] = \">65\"\n",
    "df[\"Altersgruppe\"][(df[\"Alter\"] >= 50) & (df[\"Alter\"] < 65)] = \"50 - 65\"\n",
    "df[\"Altersgruppe\"][(df[\"Alter\"] >= 30) & (df[\"Alter\"] < 50)] = \"30 - 49\"\n",
    "df[\"Altersgruppe\"][(df[\"Alter\"] >= 18) & (df[\"Alter\"] < 30)] = \"18 - 29\"\n",
    "df[\"Altersgruppe\"][df[\"Alter\"] < 18] = \"<18\""
   ]
  },
  {
   "cell_type": "code",
   "execution_count": 7,
   "metadata": {},
   "outputs": [],
   "source": [
    "df[\"balance_cat\"] = \"> 100000\"\n",
    "\n",
    "df[\"balance_cat\"][df[\"Gehalt\"] > 100000] = \"> 100000\"\n",
    "df[\"balance_cat\"][(df[\"Gehalt\"] >= 80000) & (df[\"Gehalt\"] < 100000)] = \"80000 - 99999\"\n",
    "df[\"balance_cat\"][(df[\"Gehalt\"] >= 60000) & (df[\"Gehalt\"] < 80000)] = \"60000 - 79999\"\n",
    "df[\"balance_cat\"][(df[\"Gehalt\"] >= 40000) & (df[\"Gehalt\"] < 60000)] = \"40000 - 59999\"\n",
    "df[\"balance_cat\"][(df[\"Gehalt\"] >= 20000) & (df[\"Gehalt\"] < 40000)] = \"20000 - 39999\"\n",
    "df[\"balance_cat\"][(df[\"Gehalt\"] >= 0) & (df[\"Gehalt\"] < 20000)] = \"0 - 19999\"\n",
    "df[\"balance_cat\"][df[\"Gehalt\"] < 0] = \"< 0\""
   ]
  },
  {
   "cell_type": "code",
   "execution_count": 8,
   "metadata": {},
   "outputs": [],
   "source": [
    "df[\"Produkt\"] = df[\"Angebotenes Produkt\"]\n",
    "df[\"Produkt\"] = df[\"Produkt\"].replace([\"Girokonto\", \"Kredit\",\"Tagesgeldkonto\",\"Depotkonto\", \"Altersvorsorge\",\"Versicherung\", \"Bausparvertrag\"],[1,2,3,4,5,6,7])\n",
    "df = df.drop([\"Angebotenes Produkt\"], 1)"
   ]
  },
  {
   "cell_type": "code",
   "execution_count": 9,
   "metadata": {},
   "outputs": [],
   "source": [
    "\n",
    "df[\"Job\"] = df[\"Job\"].replace([\"Studium\", \"Öffentlicher Dienst\", \"Rente\", \"Informatik\", \"Handel\", \"Handwerk\", \"Administrativ\", \"Ingenieurswesen\", \"Management\", \"Arbeitslos\"],[0,1,2,3,4,5,6,7,8,9])"
   ]
  },
  {
   "cell_type": "code",
   "execution_count": 10,
   "metadata": {},
   "outputs": [],
   "source": [
    "df[\"Geschlecht\"] = df[\"Geschlecht\"].replace([\"M\", \"W\", \"D\"],[1,2,3])"
   ]
  },
  {
   "cell_type": "code",
   "execution_count": 11,
   "metadata": {},
   "outputs": [],
   "source": [
    "df[\"Familienstand\"] = df[\"Familienstand\"].replace([\"verheiratet\", \"ledig\", \"aufgelöste Beziehung\"],[1,2,3])"
   ]
  },
  {
   "cell_type": "code",
   "execution_count": 12,
   "metadata": {},
   "outputs": [],
   "source": [
    "df[\"Kinder\"] = df[\"Kinder\"].replace([\"ja\", \"nein\"],[1,0])"
   ]
  },
  {
   "cell_type": "code",
   "execution_count": 13,
   "metadata": {},
   "outputs": [],
   "source": [
    "df[\"Altersgruppe\"] = df[\"Altersgruppe\"].replace([\"<18\", \"18 - 29\", \"30 - 49\", \"50 - 65\", \">65\"],[0,1,2,3,4])"
   ]
  },
  {
   "cell_type": "code",
   "execution_count": 14,
   "metadata": {},
   "outputs": [],
   "source": [
    "df[\"balance_cat\"] = df[\"balance_cat\"].replace([\"< 0\", \"0 - 19999\", \"20000 - 39999\", \"40000 - 59999\", \"60000 - 79999\", \"80000 - 99999\", \"> 100000\"],[1,2,3,4,5,6,7])\n",
    "df = df.drop([\"Gehalt\"], axis=1)"
   ]
  },
  {
   "cell_type": "code",
   "execution_count": 15,
   "metadata": {},
   "outputs": [],
   "source": [
    "df = df.drop([\"Alter\"], axis=1)"
   ]
  },
  {
   "cell_type": "code",
   "execution_count": 16,
   "metadata": {},
   "outputs": [],
   "source": [
    "df[\"Gekauft\"] = df[\"Gekauft\"].replace([\"nein\", \"ja\"],[0, 1])"
   ]
  },
  {
   "cell_type": "code",
   "execution_count": 17,
   "metadata": {},
   "outputs": [],
   "source": [
    "labels = np.array(df[\"Gekauft\"])\n",
    "#labels = np.array(df[\"Produkt\"])"
   ]
  },
  {
   "cell_type": "code",
   "execution_count": 18,
   "metadata": {},
   "outputs": [],
   "source": [
    "dfTest = df"
   ]
  },
  {
   "cell_type": "code",
   "execution_count": 19,
   "metadata": {},
   "outputs": [],
   "source": [
    "df = df.drop([\"Gekauft\"], axis=1)\n",
    "#df = df.drop([\"Produkt\"], axis=1)"
   ]
  },
  {
   "cell_type": "code",
   "execution_count": 20,
   "metadata": {},
   "outputs": [],
   "source": [
    "df_list = list(df.columns)"
   ]
  },
  {
   "cell_type": "markdown",
   "metadata": {},
   "source": [
    "## Algorithmen"
   ]
  },
  {
   "cell_type": "markdown",
   "metadata": {},
   "source": [
    "### Trainings- und Testdaten vorbereiten"
   ]
  },
  {
   "cell_type": "code",
   "execution_count": 21,
   "metadata": {},
   "outputs": [],
   "source": [
    "df = np.array(df)"
   ]
  },
  {
   "cell_type": "code",
   "execution_count": 22,
   "metadata": {},
   "outputs": [],
   "source": [
    "train_data, test_data, train_labels, test_labels = train_test_split(df, labels, test_size = 0.25, random_state = 42)"
   ]
  },
  {
   "cell_type": "code",
   "execution_count": 23,
   "metadata": {},
   "outputs": [
    {
     "output_type": "stream",
     "name": "stdout",
     "text": [
      "Training Features Shape: (58551, 7)\nTraining Labels Shape: (58551,)\nTesting Features Shape: (19518, 7)\nTesting Labels Shape: (19518,)\n"
     ]
    }
   ],
   "source": [
    "print('Training Features Shape:', train_data.shape)\n",
    "print('Training Labels Shape:', train_labels.shape)\n",
    "print('Testing Features Shape:', test_data.shape)\n",
    "print('Testing Labels Shape:', test_labels.shape)"
   ]
  },
  {
   "cell_type": "markdown",
   "metadata": {},
   "source": [
    "### RANDOM FOREST CLASSIFIER"
   ]
  },
  {
   "cell_type": "code",
   "execution_count": 24,
   "metadata": {},
   "outputs": [],
   "source": [
    "rf = RandomForestClassifier(n_estimators = 1000, random_state = 42)"
   ]
  },
  {
   "cell_type": "code",
   "execution_count": 25,
   "metadata": {},
   "outputs": [],
   "source": [
    "rf.fit(train_data, train_labels);"
   ]
  },
  {
   "cell_type": "code",
   "execution_count": 26,
   "metadata": {},
   "outputs": [],
   "source": [
    "pred_rf = rf.predict(test_data)\n"
   ]
  },
  {
   "cell_type": "code",
   "execution_count": 27,
   "metadata": {},
   "outputs": [],
   "source": [
    "errors_rf = abs(pred_rf - test_labels)\n",
    "errors_rf = [x for x in errors_rf if x != 0]"
   ]
  },
  {
   "cell_type": "code",
   "execution_count": 28,
   "metadata": {},
   "outputs": [
    {
     "output_type": "stream",
     "name": "stdout",
     "text": [
      "Accuracy RF = 0.7293780100420125\n"
     ]
    }
   ],
   "source": [
    "print(f\"Accuracy RF = {(len(test_labels)-len(errors_rf))/len(test_labels)}\")"
   ]
  },
  {
   "cell_type": "code",
   "execution_count": 29,
   "metadata": {},
   "outputs": [
    {
     "output_type": "stream",
     "name": "stdout",
     "text": [
      "Precision RF = 0.5078909612625538\nRecall Rf = 0.2658655651520841\nF1 Score RF = 0.34902637416810445\n"
     ]
    }
   ],
   "source": [
    "confusion_matrix_rf = sklearn.metrics.confusion_matrix(test_labels, pred_rf)\n",
    "tn_rf, fp_rf, fn_rf, tp_rf = confusion_matrix_rf.ravel()\n",
    "\n",
    "Precision_rf = tp_rf/(tp_rf+fp_rf)\n",
    "Recall_rf = tp_rf/(tp_rf+fn_rf)\n",
    "F1_rf = 2*((Precision_rf*Recall_rf)/(Precision_rf+Recall_rf))\n",
    "\n",
    "print(f\"Precision RF = {Precision_rf}\")\n",
    "print(f\"Recall Rf = {Recall_rf}\")\n",
    "print(f\"F1 Score RF = {F1_rf}\")"
   ]
  },
  {
   "cell_type": "markdown",
   "metadata": {},
   "source": [
    "### K NEAREST NEIGHBORS"
   ]
  },
  {
   "cell_type": "code",
   "execution_count": 30,
   "metadata": {},
   "outputs": [],
   "source": [
    "classifier = KNeighborsClassifier(n_neighbors=7)"
   ]
  },
  {
   "cell_type": "code",
   "execution_count": 31,
   "metadata": {},
   "outputs": [
    {
     "output_type": "execute_result",
     "data": {
      "text/plain": [
       "KNeighborsClassifier(n_neighbors=7)"
      ]
     },
     "metadata": {},
     "execution_count": 31
    }
   ],
   "source": [
    "classifier.fit(train_data, train_labels)"
   ]
  },
  {
   "cell_type": "code",
   "execution_count": 32,
   "metadata": {},
   "outputs": [],
   "source": [
    "pred_knn = classifier.predict(test_data)"
   ]
  },
  {
   "cell_type": "code",
   "execution_count": 33,
   "metadata": {},
   "outputs": [],
   "source": [
    "errors_knn = abs(pred_knn - test_labels)\n",
    "errors_knn = [x for x in errors_knn if x != 0]"
   ]
  },
  {
   "cell_type": "code",
   "execution_count": 34,
   "metadata": {},
   "outputs": [
    {
     "output_type": "stream",
     "name": "stdout",
     "text": [
      "Accuracy KNN = 0.7164668511117942\n"
     ]
    }
   ],
   "source": [
    "print(f\"Accuracy KNN = {(len(test_labels)-len(errors_knn))/len(test_labels)}\")"
   ]
  },
  {
   "cell_type": "code",
   "execution_count": 35,
   "metadata": {},
   "outputs": [
    {
     "output_type": "stream",
     "name": "stdout",
     "text": [
      "Precision KNN = 0.4671717171717172\nRecall KNN = 0.27788208787082236\nF1 Score KNN = 0.34848128090416763\n"
     ]
    }
   ],
   "source": [
    "confusion_matrix_knn = sklearn.metrics.confusion_matrix(test_labels, pred_knn)\n",
    "tn_knn, fp_knn, fn_knn, tp_knn = confusion_matrix_knn.ravel()\n",
    "\n",
    "Precision_knn = tp_knn/(tp_knn+fp_knn)\n",
    "Recall_knn = tp_knn/(tp_knn+fn_knn)\n",
    "F1_knn = 2*((Precision_knn*Recall_knn)/(Precision_knn+Recall_knn))\n",
    "\n",
    "print(f\"Precision KNN = {Precision_knn}\")\n",
    "print(f\"Recall KNN = {Recall_knn}\")\n",
    "print(f\"F1 Score KNN = {F1_knn}\")\n"
   ]
  },
  {
   "cell_type": "markdown",
   "metadata": {},
   "source": [
    "### XGBoost Classifier"
   ]
  },
  {
   "cell_type": "code",
   "execution_count": 36,
   "metadata": {},
   "outputs": [],
   "source": [
    " from scipy import stats\n",
    " from scipy.stats import randint\n",
    " from sklearn.model_selection import RandomizedSearchCV\n",
    " from sklearn.metrics import precision_score,recall_score,accuracy_score,f1_score,roc_auc_score"
   ]
  },
  {
   "cell_type": "code",
   "execution_count": 37,
   "metadata": {},
   "outputs": [],
   "source": [
    "model = XGBClassifier(\n",
    " objective= 'binary:logistic')"
   ]
  },
  {
   "cell_type": "code",
   "execution_count": 38,
   "metadata": {},
   "outputs": [],
   "source": [
    "param_dist = {'n_estimators': stats.randint(150, 1000),\n",
    "              'learning_rate': stats.uniform(0.01, 0.6),\n",
    "              'subsample': stats.uniform(0.3, 0.9),\n",
    "              'max_depth': [3, 4, 5, 6, 7, 8, 9],\n",
    "              'colsample_bytree': stats.uniform(0.5, 0.9),\n",
    "              'min_child_weight': [1, 2, 3, 4]\n",
    "             }\n",
    "\n"
   ]
  },
  {
   "cell_type": "code",
   "execution_count": 39,
   "metadata": {},
   "outputs": [],
   "source": [
    "clf = RandomizedSearchCV(model, \n",
    "                         param_distributions = param_dist,\n",
    "                         n_iter = 5,\n",
    "                         scoring = 'roc_auc', \n",
    "                         error_score = 0, \n",
    "                         verbose = 3, \n",
    "                         n_jobs = -1)"
   ]
  },
  {
   "cell_type": "code",
   "execution_count": 40,
   "metadata": {},
   "outputs": [
    {
     "output_type": "stream",
     "name": "stdout",
     "text": [
      "Fitting 5 folds for each of 5 candidates, totalling 25 fits\n",
      "[Parallel(n_jobs=-1)]: Using backend LokyBackend with 8 concurrent workers.\n",
      "[Parallel(n_jobs=-1)]: Done  19 out of  25 | elapsed:   38.3s remaining:   12.0s\n",
      "[Parallel(n_jobs=-1)]: Done  25 out of  25 | elapsed:   44.8s finished\n",
      "[14:58:36] WARNING: C:/Users/Administrator/workspace/xgboost-win64_release_1.3.0/src/learner.cc:1061: Starting in XGBoost 1.3.0, the default evaluation metric used with the objective 'binary:logistic' was changed from 'error' to 'logloss'. Explicitly set eval_metric if you'd like to restore the old behavior.\n"
     ]
    },
    {
     "output_type": "execute_result",
     "data": {
      "text/plain": [
       "RandomizedSearchCV(error_score=0,\n",
       "                   estimator=XGBClassifier(base_score=None, booster=None,\n",
       "                                           colsample_bylevel=None,\n",
       "                                           colsample_bynode=None,\n",
       "                                           colsample_bytree=None, gamma=None,\n",
       "                                           gpu_id=None, importance_type='gain',\n",
       "                                           interaction_constraints=None,\n",
       "                                           learning_rate=None,\n",
       "                                           max_delta_step=None, max_depth=None,\n",
       "                                           min_child_weight=None, missing=nan,\n",
       "                                           monotone_constraints=None,\n",
       "                                           n_estima...\n",
       "                   param_distributions={'colsample_bytree': <scipy.stats._distn_infrastructure.rv_frozen object at 0x0000026CFD46F190>,\n",
       "                                        'learning_rate': <scipy.stats._distn_infrastructure.rv_frozen object at 0x0000026CFD46F7C0>,\n",
       "                                        'max_depth': [3, 4, 5, 6, 7, 8, 9],\n",
       "                                        'min_child_weight': [1, 2, 3, 4],\n",
       "                                        'n_estimators': <scipy.stats._distn_infrastructure.rv_frozen object at 0x0000026CFD641B80>,\n",
       "                                        'subsample': <scipy.stats._distn_infrastructure.rv_frozen object at 0x0000026CFD641BE0>},\n",
       "                   scoring='roc_auc', verbose=3)"
      ]
     },
     "metadata": {},
     "execution_count": 40
    }
   ],
   "source": [
    "clf.fit(train_data, train_labels)"
   ]
  },
  {
   "cell_type": "code",
   "execution_count": 41,
   "metadata": {},
   "outputs": [],
   "source": [
    "pred_xgb = clf.predict(test_data)"
   ]
  },
  {
   "cell_type": "code",
   "execution_count": 42,
   "metadata": {},
   "outputs": [],
   "source": [
    "errors_xgb = abs(pred_xgb - test_labels)\n",
    "errors_xgb = [x for x in errors_xgb if x != 0]"
   ]
  },
  {
   "cell_type": "code",
   "execution_count": 43,
   "metadata": {},
   "outputs": [
    {
     "output_type": "stream",
     "name": "stdout",
     "text": [
      "Accuracy XGB = 0.7419817604262732\n"
     ]
    }
   ],
   "source": [
    "print(f\"Accuracy XGB = {(len(test_labels)-len(errors_xgb))/len(test_labels)}\")"
   ]
  },
  {
   "cell_type": "code",
   "execution_count": 44,
   "metadata": {},
   "outputs": [
    {
     "output_type": "stream",
     "name": "stdout",
     "text": [
      "Precision xgb = 0.5725\nRecall xgb = 0.21498310176492677\nF1 Score xgb = 0.3125853125853126\n"
     ]
    }
   ],
   "source": [
    "confusion_matrix_xgb = sklearn.metrics.confusion_matrix(test_labels, pred_xgb)\n",
    "tn_xgb, fp_xgb, fn_xgb, tp_xgb = confusion_matrix_xgb.ravel()\n",
    "\n",
    "Precision_xgb = tp_xgb/(tp_xgb+fp_xgb)\n",
    "Recall_xgb = tp_xgb/(tp_xgb+fn_xgb)\n",
    "F1_xgb = 2*((Precision_xgb*Recall_xgb)/(Precision_xgb+Recall_xgb))\n",
    "\n",
    "print(f\"Precision xgb = {Precision_xgb}\")\n",
    "print(f\"Recall xgb = {Recall_xgb}\")\n",
    "print(f\"F1 Score xgb = {F1_xgb}\")\n"
   ]
  },
  {
   "cell_type": "markdown",
   "metadata": {},
   "source": [
    "## Funktion für Applikation"
   ]
  },
  {
   "cell_type": "code",
   "execution_count": 45,
   "metadata": {},
   "outputs": [],
   "source": [
    "# for x in range(1,8):\n",
    "#      print(model.predict_proba(np.array([[2,0,2,0,1,2,x]])).reshape((1,-1)))\n",
    "        \n",
    "        \n",
    "def vorschlag(kunde):\n",
    "    kunde = np.array(kunde).reshape((1,-1))\n",
    "    \n",
    "    kunde[0][6] = 1\n",
    "    prob1 = model.predict_proba(kunde)[0][1]\n",
    "    \n",
    "    kunde[0][6] = 2\n",
    "    prob2 = model.predict_proba(kunde)[0][1]\n",
    "    \n",
    "    kunde[0][6] = 3\n",
    "    prob3 = model.predict_proba(kunde)[0][1]\n",
    "    \n",
    "    kunde[0][6] = 4\n",
    "    prob4 = model.predict_proba(kunde)[0][1]\n",
    "    \n",
    "    kunde[0][6] = 5\n",
    "    prob5 = model.predict_proba(kunde)[0][1]\n",
    "    \n",
    "    kunde[0][6] = 6\n",
    "    prob6 = model.predict_proba(kunde)[0][1]\n",
    "    \n",
    "    kunde[0][6] = 7\n",
    "    prob7 = model.predict_proba(kunde)[0][1]\n",
    "    \n",
    "    produkt = {\"Girokonto\":prob1,\"Kredit\":prob2, \"Tagesgeldkonto\":prob3, \"Depotkonto\":prob4, \"Altersvorsorge\":prob5, \"Versicherung\":prob6, \"Bausparvertrag\":prob7}\n",
    "    \n",
    "    print(f\"Top 3 Produktvorschläge:\")\n",
    "    print(f\"1. {sorted(produkt, key=produkt.get, reverse=True)[:3][0]} mit {round((produkt.get(sorted(produkt, key=produkt.get, reverse=True)[:3][0])*100),2)}% Erfolgschance\")\n",
    "    print(f\"2. {sorted(produkt, key=produkt.get, reverse=True)[:3][1]} mit {round((produkt.get(sorted(produkt, key=produkt.get, reverse=True)[:3][1])*100),2)}% Erfolgschance\")\n",
    "    print(f\"3. {sorted(produkt, key=produkt.get, reverse=True)[:3][2]} mit {round((produkt.get(sorted(produkt, key=produkt.get, reverse=True)[:3][2])*100),2)}% Erfolgschance\")\n",
    "    "
   ]
  },
  {
   "cell_type": "code",
   "execution_count": 46,
   "metadata": {},
   "outputs": [],
   "source": [
    "#vorschlag(np.array([[2,0,2,0,1,2,x]]).reshape((1,-1)))\n"
   ]
  },
  {
   "cell_type": "code",
   "execution_count": 53,
   "metadata": {},
   "outputs": [],
   "source": [
    "filename = 'jungbank_xgb.sav'\n",
    "pickle.dump(clf, open(filename, 'wb'))"
   ]
  },
  {
   "cell_type": "code",
   "execution_count": 48,
   "metadata": {},
   "outputs": [
    {
     "output_type": "execute_result",
     "data": {
      "text/plain": [
       "   Geschlecht  Job  Familienstand  Kinder  Gekauft  Altersgruppe  balance_cat  \\\n",
       "0           1    1              2       1        0             3            4   \n",
       "1           1    7              1       1        0             3            7   \n",
       "2           2    4              2       0        0             1            3   \n",
       "3           1    5              1       1        0             2            3   \n",
       "4           2    4              1       1        0             3            5   \n",
       "\n",
       "   Produkt  \n",
       "0        4  \n",
       "1        4  \n",
       "2        2  \n",
       "3        5  \n",
       "4        5  "
      ],
      "text/html": "<div>\n<style scoped>\n    .dataframe tbody tr th:only-of-type {\n        vertical-align: middle;\n    }\n\n    .dataframe tbody tr th {\n        vertical-align: top;\n    }\n\n    .dataframe thead th {\n        text-align: right;\n    }\n</style>\n<table border=\"1\" class=\"dataframe\">\n  <thead>\n    <tr style=\"text-align: right;\">\n      <th></th>\n      <th>Geschlecht</th>\n      <th>Job</th>\n      <th>Familienstand</th>\n      <th>Kinder</th>\n      <th>Gekauft</th>\n      <th>Altersgruppe</th>\n      <th>balance_cat</th>\n      <th>Produkt</th>\n    </tr>\n  </thead>\n  <tbody>\n    <tr>\n      <th>0</th>\n      <td>1</td>\n      <td>1</td>\n      <td>2</td>\n      <td>1</td>\n      <td>0</td>\n      <td>3</td>\n      <td>4</td>\n      <td>4</td>\n    </tr>\n    <tr>\n      <th>1</th>\n      <td>1</td>\n      <td>7</td>\n      <td>1</td>\n      <td>1</td>\n      <td>0</td>\n      <td>3</td>\n      <td>7</td>\n      <td>4</td>\n    </tr>\n    <tr>\n      <th>2</th>\n      <td>2</td>\n      <td>4</td>\n      <td>2</td>\n      <td>0</td>\n      <td>0</td>\n      <td>1</td>\n      <td>3</td>\n      <td>2</td>\n    </tr>\n    <tr>\n      <th>3</th>\n      <td>1</td>\n      <td>5</td>\n      <td>1</td>\n      <td>1</td>\n      <td>0</td>\n      <td>2</td>\n      <td>3</td>\n      <td>5</td>\n    </tr>\n    <tr>\n      <th>4</th>\n      <td>2</td>\n      <td>4</td>\n      <td>1</td>\n      <td>1</td>\n      <td>0</td>\n      <td>3</td>\n      <td>5</td>\n      <td>5</td>\n    </tr>\n  </tbody>\n</table>\n</div>"
     },
     "metadata": {},
     "execution_count": 48
    }
   ],
   "source": [
    "dfTest.head()"
   ]
  },
  {
   "cell_type": "code",
   "execution_count": null,
   "metadata": {},
   "outputs": [],
   "source": []
  },
  {
   "cell_type": "code",
   "execution_count": null,
   "metadata": {},
   "outputs": [],
   "source": []
  }
 ],
 "metadata": {
  "kernelspec": {
   "name": "python3",
   "display_name": "Python 3.8.5 64-bit ('fallstudie': conda)",
   "metadata": {
    "interpreter": {
     "hash": "beef297a4ce54b24d3210cdcd642bb9ae05a845857d1b647bffc689de0d4bbae"
    }
   }
  },
  "language_info": {
   "codemirror_mode": {
    "name": "ipython",
    "version": 3
   },
   "file_extension": ".py",
   "mimetype": "text/x-python",
   "name": "python",
   "nbconvert_exporter": "python",
   "pygments_lexer": "ipython3",
   "version": "3.8.5-final"
  }
 },
 "nbformat": 4,
 "nbformat_minor": 4
}